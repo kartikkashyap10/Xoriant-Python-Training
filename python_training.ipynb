{
 "cells": [
  {
   "cell_type": "code",
   "execution_count": 5,
   "id": "4ed04f48",
   "metadata": {},
   "outputs": [
    {
     "name": "stdout",
     "output_type": "stream",
     "text": [
      "1. Create Employee Record.\n",
      "2. Update existing Employee details.\n",
      "3. Delete an Employee Record.\n",
      "4. Display.\n",
      "5. Exit\n",
      "Please enter your choice between 1 to 5: 4\n",
      "========================================Employee Information========================================\n",
      "====================================================================================================\n",
      "1. Create Employee Record.\n",
      "2. Update existing Employee details.\n",
      "3. Delete an Employee Record.\n",
      "4. Display.\n",
      "5. Exit\n",
      "Please enter your choice between 1 to 5: 5\n"
     ]
    }
   ],
   "source": [
    "employee_info = {}\n",
    "\n",
    "while True:\n",
    "    print(\"1. Create Employee Record.\")\n",
    "    print(\"2. Update existing Employee details.\")\n",
    "    print(\"3. Delete an Employee Record.\")\n",
    "    print(\"4. Display.\")\n",
    "    print(\"5. Exit\")\n",
    "    \n",
    "    choice = int(input(\"Please enter your choice between 1 to 5: \"))\n",
    "    \n",
    "    if choice == 1:\n",
    "        print(\"Let's create an Employee record\".center(100, \"=\"))\n",
    "        \n",
    "        name = input(\"Enter the Employee name: \")\n",
    "        emp_id = int(input(\"Enter the Employee ID: \"))\n",
    "        phone = input(\"Enter the phone number of the Employee: \")\n",
    "        tech = input(\"Please enter the tecnlogies that the Employee is working on as CSV: \")\n",
    "        employee_info[emp_id] = {\"name\": name, \"phone\": phone, \"tech\": tech.split(\",\")}\n",
    "        print(\"\".center(100, \"=\"))\n",
    "    elif choice == 2:\n",
    "        print(\"Let's update an Employee record\".center(100, \"=\"))\n",
    "        \n",
    "        who = int(input(\"whose details do you want update? Please enter the Employee ID: \"))\n",
    "        record = employee_info[who]\n",
    "        for key, value in record.items():\n",
    "            new_value = input('{}: {}'.format(key, value))\n",
    "            employee_info[who][key] = value if new_value != \" \" else new_value\n",
    "        print(\"\".center(100, \"=\"))\n",
    "    elif choice == 3:\n",
    "        print(\"Let's delete an Employee record\".center(100, \"=\"))\n",
    "        \n",
    "        who = int(input(\"Enter the Employee id: \")) \n",
    "        if who in employee_info:\n",
    "            del employee_info[who]\n",
    "        else:\n",
    "            print(\"Record not found!\")\n",
    "        print(\"\".center(100, \"=\"))\n",
    "    elif choice == 4:\n",
    "        print(\"Employee Information\".center(100, \"=\"))5\n",
    "        for key, value in employee_info.items():\n",
    "            print(f\"{key}: {value}\")\n",
    "        print(\"\".center(100, \"=\"))\n",
    "    else:\n",
    "        break"
   ]
  },
  {
   "cell_type": "code",
   "execution_count": 8,
   "id": "24f409f4",
   "metadata": {},
   "outputs": [
    {
     "name": "stdout",
     "output_type": "stream",
     "text": [
      "Enter an index: 3\n",
      "64\n"
     ]
    }
   ],
   "source": [
    "n = [1, 2, 3, 4, 5, 6, 7, 8]\n",
    "num = int(input(\"Enter an index: \"))\n",
    "\n",
    "squares = []\n",
    "for num in n:\n",
    "    squares.append(num ** 2)\n",
    "idx_pos = n.index(num)\n",
    "print(squares[idx_pos])"
   ]
  },
  {
   "cell_type": "code",
   "execution_count": 13,
   "id": "2bebc76d",
   "metadata": {},
   "outputs": [
    {
     "name": "stdout",
     "output_type": "stream",
     "text": [
      "Enter the index for which you want to see suqares: 2\n",
      "4\n"
     ]
    }
   ],
   "source": [
    "num = int(input(\"Enter the index for which you want to see suqares: \"))\n",
    "sq = [i ** 2 for i in range(1, num + 1)]\n",
    "idx_pos = n.index(num)\n",
    "print(sq[idx_pos])\n"
   ]
  },
  {
   "cell_type": "code",
   "execution_count": 14,
   "id": "b22523d5",
   "metadata": {},
   "outputs": [
    {
     "data": {
      "text/plain": [
       "{1: 1, 2: 4, 3: 9, 4: 16, 5: 25}"
      ]
     },
     "execution_count": 14,
     "metadata": {},
     "output_type": "execute_result"
    }
   ],
   "source": [
    "#dictionary comprehension\n",
    "{k: k ** 2 for k in range(1, 6)}\n"
   ]
  },
  {
   "cell_type": "code",
   "execution_count": 15,
   "id": "dd66e80c",
   "metadata": {},
   "outputs": [],
   "source": [
    "# convert tuple to dict\n",
    "\n",
    "# {0: 45, 1: 77, 2: 109, 3: \"data\", 4:[]}\n",
    "tp = (45, 77, 109, 'data, [\"Raj\", \"Rohan\"]')"
   ]
  },
  {
   "cell_type": "code",
   "execution_count": 16,
   "id": "bbed38b6",
   "metadata": {},
   "outputs": [
    {
     "data": {
      "text/plain": [
       "{0: 45, 1: 77, 2: 109, 3: 'data, [\"Raj\", \"Rohan\"]'}"
      ]
     },
     "execution_count": 16,
     "metadata": {},
     "output_type": "execute_result"
    }
   ],
   "source": [
    "{k: tp[k] for k in range(len(tp))}"
   ]
  },
  {
   "cell_type": "code",
   "execution_count": 17,
   "id": "b65f4b3e",
   "metadata": {},
   "outputs": [
    {
     "data": {
      "text/plain": [
       "{0: 45, 1: 77, 2: 109, 3: 'data, [\"Raj\", \"Rohan\"]'}"
      ]
     },
     "execution_count": 17,
     "metadata": {},
     "output_type": "execute_result"
    }
   ],
   "source": [
    "# logic other way\n",
    "\n",
    "{tp.index(v): v for v in tp}"
   ]
  },
  {
   "cell_type": "code",
   "execution_count": 18,
   "id": "72a112a2",
   "metadata": {},
   "outputs": [
    {
     "data": {
      "text/plain": [
       "('data, [\"Raj\", \"Rohan\"]', 109, 77, 45)"
      ]
     },
     "execution_count": 18,
     "metadata": {},
     "output_type": "execute_result"
    }
   ],
   "source": [
    "# how to reverse elements of a tuple\n",
    "tp[::-1]"
   ]
  },
  {
   "cell_type": "code",
   "execution_count": 23,
   "id": "74cb635d",
   "metadata": {},
   "outputs": [],
   "source": [
    "tp1= (1, 2, 3, 4)"
   ]
  },
  {
   "cell_type": "code",
   "execution_count": 24,
   "id": "0edfdac2",
   "metadata": {},
   "outputs": [
    {
     "data": {
      "text/plain": [
       "(4, 3, 2, 1)"
      ]
     },
     "execution_count": 24,
     "metadata": {},
     "output_type": "execute_result"
    }
   ],
   "source": [
    "tp1[::-1]"
   ]
  },
  {
   "cell_type": "code",
   "execution_count": 25,
   "id": "9eb183c4",
   "metadata": {},
   "outputs": [],
   "source": [
    "s = {10, 30, 7, 8, 1, 2, 3, 5}"
   ]
  },
  {
   "cell_type": "code",
   "execution_count": 26,
   "id": "6d74388c",
   "metadata": {},
   "outputs": [
    {
     "data": {
      "text/plain": [
       "set"
      ]
     },
     "execution_count": 26,
     "metadata": {},
     "output_type": "execute_result"
    }
   ],
   "source": [
    "type(s)"
   ]
  },
  {
   "cell_type": "code",
   "execution_count": 27,
   "id": "031fb0e0",
   "metadata": {},
   "outputs": [
    {
     "name": "stdout",
     "output_type": "stream",
     "text": [
      "{1, 2, 3, 5, 7, 8, 10, 30}\n"
     ]
    }
   ],
   "source": [
    "l = [10, 30, 7, 8, 1, 2, 3, 5, 10, 30]\n",
    "s = set(l)\n",
    "print(s)"
   ]
  },
  {
   "cell_type": "code",
   "execution_count": 28,
   "id": "8e294cab",
   "metadata": {},
   "outputs": [
    {
     "data": {
      "text/plain": [
       "['__and__',\n",
       " '__class__',\n",
       " '__class_getitem__',\n",
       " '__contains__',\n",
       " '__delattr__',\n",
       " '__dir__',\n",
       " '__doc__',\n",
       " '__eq__',\n",
       " '__format__',\n",
       " '__ge__',\n",
       " '__getattribute__',\n",
       " '__gt__',\n",
       " '__hash__',\n",
       " '__iand__',\n",
       " '__init__',\n",
       " '__init_subclass__',\n",
       " '__ior__',\n",
       " '__isub__',\n",
       " '__iter__',\n",
       " '__ixor__',\n",
       " '__le__',\n",
       " '__len__',\n",
       " '__lt__',\n",
       " '__ne__',\n",
       " '__new__',\n",
       " '__or__',\n",
       " '__rand__',\n",
       " '__reduce__',\n",
       " '__reduce_ex__',\n",
       " '__repr__',\n",
       " '__ror__',\n",
       " '__rsub__',\n",
       " '__rxor__',\n",
       " '__setattr__',\n",
       " '__sizeof__',\n",
       " '__str__',\n",
       " '__sub__',\n",
       " '__subclasshook__',\n",
       " '__xor__',\n",
       " 'add',\n",
       " 'clear',\n",
       " 'copy',\n",
       " 'difference',\n",
       " 'difference_update',\n",
       " 'discard',\n",
       " 'intersection',\n",
       " 'intersection_update',\n",
       " 'isdisjoint',\n",
       " 'issubset',\n",
       " 'issuperset',\n",
       " 'pop',\n",
       " 'remove',\n",
       " 'symmetric_difference',\n",
       " 'symmetric_difference_update',\n",
       " 'union',\n",
       " 'update']"
      ]
     },
     "execution_count": 28,
     "metadata": {},
     "output_type": "execute_result"
    }
   ],
   "source": [
    "dir(s)"
   ]
  },
  {
   "cell_type": "code",
   "execution_count": 30,
   "id": "0cf8c3f1",
   "metadata": {},
   "outputs": [
    {
     "data": {
      "text/plain": [
       "{5, 6, 7}"
      ]
     },
     "execution_count": 30,
     "metadata": {},
     "output_type": "execute_result"
    }
   ],
   "source": [
    "s1 = {1, 2, 5, 6, 7}\n",
    "s2 = {5, 6, 7}\n",
    "s1.difference(s2)\n"
   ]
  },
  {
   "cell_type": "code",
   "execution_count": 31,
   "id": "160232e2",
   "metadata": {},
   "outputs": [
    {
     "data": {
      "text/plain": [
       "{5, 6, 7}"
      ]
     },
     "execution_count": 31,
     "metadata": {},
     "output_type": "execute_result"
    }
   ],
   "source": [
    "s1.intersection(s2)"
   ]
  },
  {
   "cell_type": "code",
   "execution_count": 32,
   "id": "0c97210f",
   "metadata": {},
   "outputs": [],
   "source": [
    "s1 = {10, 30, 7, 8, 1, 2, 3, 5}"
   ]
  },
  {
   "cell_type": "code",
   "execution_count": 33,
   "id": "86d973a6",
   "metadata": {},
   "outputs": [
    {
     "data": {
      "text/plain": [
       "1"
      ]
     },
     "execution_count": 33,
     "metadata": {},
     "output_type": "execute_result"
    }
   ],
   "source": [
    "s1.pop()"
   ]
  },
  {
   "cell_type": "code",
   "execution_count": 41,
   "id": "e246d590",
   "metadata": {},
   "outputs": [
    {
     "name": "stdout",
     "output_type": "stream",
     "text": [
      "Help on method_descriptor:\n",
      "\n",
      "update(...)\n",
      "    Update a set with the union of itself and others.\n",
      "\n"
     ]
    }
   ],
   "source": [
    "help(set.update)"
   ]
  },
  {
   "cell_type": "code",
   "execution_count": 42,
   "id": "b1cec781",
   "metadata": {},
   "outputs": [],
   "source": [
    "s2 = {16, 14, 15, 13, 9}"
   ]
  },
  {
   "cell_type": "code",
   "execution_count": 43,
   "id": "e55ed69c",
   "metadata": {},
   "outputs": [],
   "source": [
    "s1.update(s2)"
   ]
  },
  {
   "cell_type": "code",
   "execution_count": 44,
   "id": "ae3cf448",
   "metadata": {},
   "outputs": [
    {
     "data": {
      "text/plain": [
       "{2, 3, 5, 7, 8, 9, 10, 13, 14, 15, 16, 30}"
      ]
     },
     "execution_count": 44,
     "metadata": {},
     "output_type": "execute_result"
    }
   ],
   "source": [
    "s1"
   ]
  },
  {
   "cell_type": "code",
   "execution_count": 45,
   "id": "7f526ee0",
   "metadata": {},
   "outputs": [
    {
     "data": {
      "text/plain": [
       "{9, 13, 14, 15, 16}"
      ]
     },
     "execution_count": 45,
     "metadata": {},
     "output_type": "execute_result"
    }
   ],
   "source": [
    "s2"
   ]
  },
  {
   "cell_type": "code",
   "execution_count": 46,
   "id": "ea0212f4",
   "metadata": {},
   "outputs": [
    {
     "data": {
      "text/plain": [
       "{2, 3, 5, 7, 8, 10, 30}"
      ]
     },
     "execution_count": 46,
     "metadata": {},
     "output_type": "execute_result"
    }
   ],
   "source": [
    "# Symmetric Difference\n",
    "s1 ^ s2"
   ]
  },
  {
   "cell_type": "code",
   "execution_count": 47,
   "id": "03d272b5",
   "metadata": {},
   "outputs": [
    {
     "data": {
      "text/plain": [
       "{2, 3, 5, 7, 8, 9, 10, 13, 14, 15, 16, 30}"
      ]
     },
     "execution_count": 47,
     "metadata": {},
     "output_type": "execute_result"
    }
   ],
   "source": [
    "# Set Union\n",
    "s1 | s2"
   ]
  },
  {
   "cell_type": "code",
   "execution_count": 48,
   "id": "0efb25c2",
   "metadata": {},
   "outputs": [],
   "source": [
    "def greetings():\n",
    "    print(\"Hello, Kartik!\")\n",
    "    print(\"How are you doing?\")\n",
    "    print(\"Would you like to learm Python?\")"
   ]
  },
  {
   "cell_type": "code",
   "execution_count": 49,
   "id": "3959e2e7",
   "metadata": {},
   "outputs": [
    {
     "name": "stdout",
     "output_type": "stream",
     "text": [
      "Hello, Kartik!\n",
      "How are you doing?\n",
      "Would you like to learm Python?\n"
     ]
    }
   ],
   "source": [
    "greetings()"
   ]
  },
  {
   "cell_type": "code",
   "execution_count": 52,
   "id": "13a31f51",
   "metadata": {},
   "outputs": [],
   "source": [
    "def greeting(name, age):\n",
    "    print(f\"Hello, {name}!\")\n",
    "    print(f\"How are you doing?\")\n",
    "    print(\"Would you like to learm Python?\")\n",
    "    if isinstance(age, (int, float)):\n",
    "        print(f\"Your age is {age}.\")    "
   ]
  },
  {
   "cell_type": "code",
   "execution_count": 55,
   "id": "96bc2a39",
   "metadata": {},
   "outputs": [
    {
     "name": "stdout",
     "output_type": "stream",
     "text": [
      "Hello, Kartik!\n",
      "How are you doing?\n",
      "Would you like to learm Python?\n",
      "Your age is 22.\n"
     ]
    }
   ],
   "source": [
    "greeting(\"Kartik\", 22)"
   ]
  },
  {
   "cell_type": "code",
   "execution_count": 57,
   "id": "f86f2d6b",
   "metadata": {},
   "outputs": [],
   "source": [
    "def greeting():\n",
    "    \"\"\"\n",
    "     this function is responsible to greet people\n",
    "    \"\"\"\n",
    "    pass"
   ]
  },
  {
   "cell_type": "code",
   "execution_count": 58,
   "id": "9092d950",
   "metadata": {},
   "outputs": [
    {
     "name": "stdout",
     "output_type": "stream",
     "text": [
      "Help on function greeting in module __main__:\n",
      "\n",
      "greeting()\n",
      "    this function is responsible to greet people\n",
      "\n"
     ]
    }
   ],
   "source": [
    "help(greeting)"
   ]
  },
  {
   "cell_type": "code",
   "execution_count": 63,
   "id": "1c9c0b22",
   "metadata": {},
   "outputs": [],
   "source": [
    "def greeting(name = '', age = 25):\n",
    "    \"\"\"\n",
    "     this function is responsible to greet people\n",
    "    \"\"\"\n",
    "    print(\"Hello {}.\".format(name))\n",
    "    print(\"Welcome to learning Python\")\n",
    "    if isinstance(age, (int, float)):\n",
    "        print(age)"
   ]
  },
  {
   "cell_type": "code",
   "execution_count": 64,
   "id": "711b6afd",
   "metadata": {},
   "outputs": [
    {
     "name": "stdout",
     "output_type": "stream",
     "text": [
      "Hello John.\n",
      "Welcome to learning Python\n",
      "25\n"
     ]
    }
   ],
   "source": [
    "greeting(name = \"John\")"
   ]
  },
  {
   "cell_type": "code",
   "execution_count": 85,
   "id": "89e406d8",
   "metadata": {},
   "outputs": [],
   "source": [
    "def greeting(*args, phone = \"9999999999\", address = \"Pune\"):\n",
    "    \"\"\"\n",
    "    *args captures variable number of arguments in a tuple\n",
    "    so that we can process them in the function\n",
    "    \"\"\"\n",
    "    print(f\"All arguments: {args}.\")\n",
    "    print(f\"Name is {args[0]}.\")\n",
    "    print(f\"Age is {args[1]}.\")\n",
    "    print(f\"Programming Languages: {args[2]}.\")\n",
    "    print(f\"Favourite Sports: {args[3]}.\")\n",
    "    print(f\"Phone number is {phone}.\")\n",
    "    print(f\"Address is {address}.\")"
   ]
  },
  {
   "cell_type": "code",
   "execution_count": 86,
   "id": "65362ef8",
   "metadata": {},
   "outputs": [
    {
     "name": "stdout",
     "output_type": "stream",
     "text": [
      "All arguments: ('Kartik', 22, ['Python', 'c++'], 'football').\n",
      "Name is Kartik.\n",
      "Age is 22.\n",
      "Programming Languages: ['Python', 'c++'].\n",
      "Favourite Sports: football.\n",
      "Phone number is 9999999999.\n",
      "Address is Pune.\n"
     ]
    }
   ],
   "source": [
    "greeting(\"Kartik\", 22, [\"Python\", \"c++\"], \"football\")"
   ]
  },
  {
   "cell_type": "code",
   "execution_count": 68,
   "id": "b88ceb13",
   "metadata": {},
   "outputs": [
    {
     "name": "stdout",
     "output_type": "stream",
     "text": [
      "Name is Kartik.\n",
      "Age is 22.\n",
      "Phone number is 1010101010.\n",
      "Address is Mumbai.\n"
     ]
    }
   ],
   "source": [
    "greeting(\"Kartik\", 22, 1010101010, \"Mumbai\")"
   ]
  },
  {
   "cell_type": "code",
   "execution_count": 110,
   "id": "0846654f",
   "metadata": {},
   "outputs": [],
   "source": [
    "def get_data(name, *args, **kwargs):\n",
    "    \n",
    "    \"\"\" **kwargs accepts variable number of arguments as\n",
    "    as key value pair and stores it in a dictionary for\n",
    "    processing in the function body \"\"\"\n",
    "    \n",
    "    print(f\"Player Name: {name}.\")\n",
    "    print(f\"args: {args}.\")\n",
    "    print(f\"kwargs: {kwargs}.\")   \n",
    "    print(f\"Football Club, Preferred positon: {kwargs['club']}, {kwargs['position']}.\")\n",
    "    print(f\"Jersey Number: {args[1]}.\")\n",
    "    print(f\"Market Value: {args[0]} million euros.\")"
   ]
  },
  {
   "cell_type": "code",
   "execution_count": 111,
   "id": "344af7ee",
   "metadata": {},
   "outputs": [
    {
     "name": "stdout",
     "output_type": "stream",
     "text": [
      "Player Name: Pedri.\n",
      "args: (80, 16).\n",
      "kwargs: {'club': 'Barcelona', 'position': 'CAM'}.\n",
      "Football Club, Preferred positon: Barcelona, CAM.\n",
      "Jersey Number: 16.\n",
      "Market Value: 80 million euros.\n"
     ]
    }
   ],
   "source": [
    "get_data(\"Pedri\", 80, 16, club = \"Barcelona\", position = \"CAM\")"
   ]
  },
  {
   "cell_type": "code",
   "execution_count": 109,
   "id": "a8c5a928",
   "metadata": {},
   "outputs": [
    {
     "name": "stdout",
     "output_type": "stream",
     "text": [
      "Name: Ansu Fati.\n",
      "args: (60, 10).\n",
      "kwargs: {'club': 'Barcelona', 'position': 'LWF'}.\n",
      "Club, Preferred positon: Barcelona, LWF.\n",
      "Jersey Number: 10.\n",
      "Market Value: 60 million euros.\n"
     ]
    }
   ],
   "source": [
    "get_data(\"Ansu Fati\", 60, 10, club = \"Barcelona\", position = \"LWF\")"
   ]
  },
  {
   "cell_type": "code",
   "execution_count": 113,
   "id": "e3f9a53b",
   "metadata": {},
   "outputs": [
    {
     "name": "stdout",
     "output_type": "stream",
     "text": [
      "1 2 3 4 5 6 7 8 9 10\n"
     ]
    }
   ],
   "source": [
    "def natural_nums(num):\n",
    "    print(*[i for i in range(1, num + 1)])\n",
    "natural_nums(10)"
   ]
  },
  {
   "cell_type": "code",
   "execution_count": 114,
   "id": "65821acf",
   "metadata": {},
   "outputs": [
    {
     "data": {
      "text/plain": [
       "100"
      ]
     },
     "execution_count": 114,
     "metadata": {},
     "output_type": "execute_result"
    }
   ],
   "source": [
    "def square(n):\n",
    "    return n**2\n",
    "square(10)"
   ]
  },
  {
   "cell_type": "code",
   "execution_count": 115,
   "id": "ce33daee",
   "metadata": {},
   "outputs": [
    {
     "data": {
      "text/plain": [
       "100"
      ]
     },
     "execution_count": 115,
     "metadata": {},
     "output_type": "execute_result"
    }
   ],
   "source": [
    "# Lambda functions\n",
    "# lamda args: expression\n",
    "\n",
    "square = lambda n: n ** 2\n",
    "square(10)"
   ]
  },
  {
   "cell_type": "code",
   "execution_count": 118,
   "id": "f32419b2",
   "metadata": {},
   "outputs": [
    {
     "data": {
      "text/plain": [
       "[1, 4, 9, 16, 25]"
      ]
     },
     "execution_count": 118,
     "metadata": {},
     "output_type": "execute_result"
    }
   ],
   "source": [
    "# map(function, iterables)\n",
    "#list(map(square, [1, 2, 3, 4, 5]))\n",
    "\n",
    "list(map(lambda n: n ** 2, [1, 2, 3, 4, 5]))"
   ]
  },
  {
   "cell_type": "code",
   "execution_count": 123,
   "id": "bc6217ac",
   "metadata": {},
   "outputs": [
    {
     "name": "stdout",
     "output_type": "stream",
     "text": [
      "PEDRI CAM BARCELONA SPAIN\n"
     ]
    }
   ],
   "source": [
    "print(*list(map(str.upper, [\"pedri\", \"cam\", \"barcelona\", \"spain\"])))"
   ]
  },
  {
   "cell_type": "code",
   "execution_count": 129,
   "id": "c7c45aea",
   "metadata": {},
   "outputs": [],
   "source": [
    "def f1():\n",
    "    global temp\n",
    "    temp = 10\n",
    "    print(temp)"
   ]
  },
  {
   "cell_type": "code",
   "execution_count": 130,
   "id": "00408a60",
   "metadata": {},
   "outputs": [
    {
     "name": "stdout",
     "output_type": "stream",
     "text": [
      "10\n"
     ]
    }
   ],
   "source": [
    "f1()"
   ]
  },
  {
   "cell_type": "code",
   "execution_count": 131,
   "id": "14e10db1",
   "metadata": {},
   "outputs": [
    {
     "data": {
      "text/plain": [
       "10"
      ]
     },
     "execution_count": 131,
     "metadata": {},
     "output_type": "execute_result"
    }
   ],
   "source": [
    "temp"
   ]
  },
  {
   "cell_type": "code",
   "execution_count": 138,
   "id": "41869735",
   "metadata": {},
   "outputs": [],
   "source": [
    "def outer():\n",
    "    i = 10\n",
    "    j = 8\n",
    "    def inner1():\n",
    "        print(i)\n",
    "        print(\"First inner function\")\n",
    "    def inner2():\n",
    "        print(j)\n",
    "        print(\"Second inner function\")\n",
    "    inner1()\n",
    "    inner2()\n",
    "    return inner1, inner2    "
   ]
  },
  {
   "cell_type": "code",
   "execution_count": 139,
   "id": "f7645796",
   "metadata": {},
   "outputs": [
    {
     "name": "stdout",
     "output_type": "stream",
     "text": [
      "10\n",
      "First inner function\n",
      "8\n",
      "Second inner function\n"
     ]
    }
   ],
   "source": [
    "p = outer()"
   ]
  },
  {
   "cell_type": "code",
   "execution_count": 140,
   "id": "1114ae27",
   "metadata": {},
   "outputs": [
    {
     "data": {
      "text/plain": [
       "['__add__',\n",
       " '__class__',\n",
       " '__class_getitem__',\n",
       " '__contains__',\n",
       " '__delattr__',\n",
       " '__dir__',\n",
       " '__doc__',\n",
       " '__eq__',\n",
       " '__format__',\n",
       " '__ge__',\n",
       " '__getattribute__',\n",
       " '__getitem__',\n",
       " '__getnewargs__',\n",
       " '__gt__',\n",
       " '__hash__',\n",
       " '__init__',\n",
       " '__init_subclass__',\n",
       " '__iter__',\n",
       " '__le__',\n",
       " '__len__',\n",
       " '__lt__',\n",
       " '__mul__',\n",
       " '__ne__',\n",
       " '__new__',\n",
       " '__reduce__',\n",
       " '__reduce_ex__',\n",
       " '__repr__',\n",
       " '__rmul__',\n",
       " '__setattr__',\n",
       " '__sizeof__',\n",
       " '__str__',\n",
       " '__subclasshook__',\n",
       " 'count',\n",
       " 'index']"
      ]
     },
     "execution_count": 140,
     "metadata": {},
     "output_type": "execute_result"
    }
   ],
   "source": [
    "dir(p)"
   ]
  },
  {
   "cell_type": "code",
   "execution_count": 146,
   "id": "4ef4ac49",
   "metadata": {},
   "outputs": [
    {
     "data": {
      "text/plain": [
       "tuple"
      ]
     },
     "execution_count": 146,
     "metadata": {},
     "output_type": "execute_result"
    }
   ],
   "source": [
    "type(p)"
   ]
  },
  {
   "cell_type": "code",
   "execution_count": 142,
   "id": "87c30dd1",
   "metadata": {},
   "outputs": [
    {
     "name": "stdout",
     "output_type": "stream",
     "text": [
      "10\n",
      "First inner function\n"
     ]
    }
   ],
   "source": [
    "p[0]()"
   ]
  },
  {
   "cell_type": "code",
   "execution_count": 143,
   "id": "abe50047",
   "metadata": {},
   "outputs": [
    {
     "name": "stdout",
     "output_type": "stream",
     "text": [
      "8\n",
      "Second inner function\n"
     ]
    }
   ],
   "source": [
    "p[1]()"
   ]
  },
  {
   "cell_type": "code",
   "execution_count": 150,
   "id": "046335a9",
   "metadata": {},
   "outputs": [],
   "source": [
    "# Higher Order Functions\n",
    "def outer(f):\n",
    "    def inner():\n",
    "        result = f()\n",
    "        return result ** 2\n",
    "    return inner\n",
    "\n",
    "def num():\n",
    "    return 5"
   ]
  },
  {
   "cell_type": "code",
   "execution_count": 152,
   "id": "c1a09449",
   "metadata": {},
   "outputs": [],
   "source": [
    "r = outer(num)"
   ]
  },
  {
   "cell_type": "code",
   "execution_count": 153,
   "id": "b68127a6",
   "metadata": {},
   "outputs": [
    {
     "data": {
      "text/plain": [
       "<function __main__.outer.<locals>.inner()>"
      ]
     },
     "execution_count": 153,
     "metadata": {},
     "output_type": "execute_result"
    }
   ],
   "source": [
    "r"
   ]
  },
  {
   "cell_type": "code",
   "execution_count": 154,
   "id": "4bdb9b1b",
   "metadata": {},
   "outputs": [
    {
     "data": {
      "text/plain": [
       "25"
      ]
     },
     "execution_count": 154,
     "metadata": {},
     "output_type": "execute_result"
    }
   ],
   "source": [
    "r()"
   ]
  },
  {
   "cell_type": "code",
   "execution_count": 155,
   "id": "0d12ba9b",
   "metadata": {},
   "outputs": [],
   "source": [
    "@outer\n",
    "def num():\n",
    "    return 5"
   ]
  },
  {
   "cell_type": "code",
   "execution_count": 156,
   "id": "e8f03c0b",
   "metadata": {},
   "outputs": [
    {
     "data": {
      "text/plain": [
       "25"
      ]
     },
     "execution_count": 156,
     "metadata": {},
     "output_type": "execute_result"
    }
   ],
   "source": [
    "num()"
   ]
  },
  {
   "cell_type": "code",
   "execution_count": 2,
   "id": "a253ef43",
   "metadata": {},
   "outputs": [],
   "source": [
    "def outer(f):\n",
    "    def inner(n1, n2):\n",
    "        result = f(n1, n2)\n",
    "        return result ** 2\n",
    "    return inner"
   ]
  },
  {
   "cell_type": "code",
   "execution_count": 3,
   "id": "4150153b",
   "metadata": {},
   "outputs": [],
   "source": [
    "@outer \n",
    "def num(n1, n2):\n",
    "    return n1+n2+5"
   ]
  },
  {
   "cell_type": "code",
   "execution_count": 4,
   "id": "683fa516",
   "metadata": {},
   "outputs": [
    {
     "data": {
      "text/plain": [
       "784"
      ]
     },
     "execution_count": 4,
     "metadata": {},
     "output_type": "execute_result"
    }
   ],
   "source": [
    "num(19, 4)"
   ]
  },
  {
   "cell_type": "code",
   "execution_count": 16,
   "id": "9bd4d2cd",
   "metadata": {},
   "outputs": [],
   "source": [
    "def validate(func):\n",
    "    def validator(*args, **kwargs):\n",
    "        if len(args) >= 1:\n",
    "            if args[1] == 0:\n",
    "                print(\"Invalid Input!\")\n",
    "                return None\n",
    "            else:\n",
    "                power = func(args[0], args[1])\n",
    "                return power\n",
    "        else:\n",
    "            print(\"Invalid arguments!\")\n",
    "    return validator"
   ]
  },
  {
   "cell_type": "code",
   "execution_count": 20,
   "id": "ee4303be",
   "metadata": {},
   "outputs": [],
   "source": [
    "# Decorator\n",
    "import math\n",
    "@validate\n",
    "def mypower(x, y):\n",
    "    return math.pow(x, y)"
   ]
  },
  {
   "cell_type": "code",
   "execution_count": 21,
   "id": "d5f71111",
   "metadata": {},
   "outputs": [
    {
     "data": {
      "text/plain": [
       "100.0"
      ]
     },
     "execution_count": 21,
     "metadata": {},
     "output_type": "execute_result"
    }
   ],
   "source": [
    "mypower(10, 2)"
   ]
  },
  {
   "cell_type": "code",
   "execution_count": 1,
   "id": "0e968803",
   "metadata": {},
   "outputs": [],
   "source": [
    "lst = [1, 2, 3, 4, 5, 6, 7, 8, 9, 10]"
   ]
  },
  {
   "cell_type": "code",
   "execution_count": 2,
   "id": "ac7b40a7",
   "metadata": {},
   "outputs": [
    {
     "data": {
      "text/plain": [
       "[2, 4, 6, 8, 10]"
      ]
     },
     "execution_count": 2,
     "metadata": {},
     "output_type": "execute_result"
    }
   ],
   "source": [
    "list(filter(lambda x: x %2 == 0, lst))"
   ]
  },
  {
   "cell_type": "code",
   "execution_count": 9,
   "id": "876e827d",
   "metadata": {},
   "outputs": [
    {
     "data": {
      "text/plain": [
       "[1, 8, 27, 64, 125, 216, 343, 512, 729, 1000]"
      ]
     },
     "execution_count": 9,
     "metadata": {},
     "output_type": "execute_result"
    }
   ],
   "source": [
    "list(map(lambda x: x ** 3, lst))"
   ]
  },
  {
   "cell_type": "code",
   "execution_count": 15,
   "id": "aa42f03e",
   "metadata": {},
   "outputs": [],
   "source": [
    "# general purpose decorators\n",
    "\n",
    "def a_decorator_passing_arbritary_arguments(function_to_decorate):\n",
    "    def a_wrapper_accepting_arbitary_arguments(*args, **kwargs):\n",
    "        print(\"The positional arguments are: \", args)\n",
    "        print(\"The keyword arguments are\", kwargs)\n",
    "        function_to_decorate(*args)\n",
    "    \n",
    "    return a_wrapper_accepting_arbitary_arguments\n",
    "\n",
    "@a_decorator_passing_arbritary_arguments\n",
    "def function_with_no_arguments():\n",
    "    print(\"No arguments here...\")\n",
    "    \n",
    "    "
   ]
  },
  {
   "cell_type": "code",
   "execution_count": 17,
   "id": "46cad37b",
   "metadata": {},
   "outputs": [
    {
     "name": "stdout",
     "output_type": "stream",
     "text": [
      "The positional arguments are:  ()\n",
      "The keyword arguments are {}\n",
      "No arguments here...\n"
     ]
    }
   ],
   "source": [
    "function_with_no_arguments()"
   ]
  },
  {
   "cell_type": "code",
   "execution_count": 21,
   "id": "0e158be1",
   "metadata": {},
   "outputs": [
    {
     "name": "stdout",
     "output_type": "stream",
     "text": [
      "The positional arguments are:  (10, 20, 30)\n",
      "The keyword arguments are {}\n",
      "10 20 30\n"
     ]
    }
   ],
   "source": [
    "# Passing postional arguments to decorators\n",
    "def accept_the_arguments(function_to_decorator):\n",
    "    def inner_function(*args, **kwargs):\n",
    "        print(\"The positional arguments are: \", args)\n",
    "        print(\"The keyword arguments are\", kwargs)\n",
    "        function_to_decorator(*args)\n",
    "    return inner_function\n",
    "\n",
    "@accept_the_arguments\n",
    "def function_with_args(a, b, c):\n",
    "    print(a, b, c)\n",
    "    \n",
    "function_with_args(10, 20, 30)"
   ]
  },
  {
   "cell_type": "code",
   "execution_count": 22,
   "id": "a837d547",
   "metadata": {},
   "outputs": [],
   "source": [
    "# passing kwargs based arguments\n",
    "\n",
    "def accepting_kwargs(function_to_decorator):\n",
    "    def inner_function(*args, **kwargs):\n",
    "        print(f\"args: {args}\")\n",
    "        print(f\"kwargs: {kwargs}\")\n",
    "        function_to_decorator(*args, **kwargs)\n",
    "    return inner_function\n",
    "\n",
    "@accepting_kwargs\n",
    "def functions_with_args(*args, **kwargs):\n",
    "    print(f\"Inside functions_with_args, args: {args}\")\n",
    "    print(f\"Inside functions_with_args, kwargs: {kwargs}\")\n"
   ]
  },
  {
   "cell_type": "code",
   "execution_count": 23,
   "id": "a5c21b69",
   "metadata": {},
   "outputs": [
    {
     "name": "stdout",
     "output_type": "stream",
     "text": [
      "The positional arguments are:  (1, 2, 3)\n",
      "The keyword arguments are {'name': 'Pedri', 'address': 'Barcelona'}\n",
      "1 2 3\n"
     ]
    }
   ],
   "source": [
    "function_with_args(1, 2, 3, name = \"Pedri\", address = \"Barcelona\")"
   ]
  },
  {
   "cell_type": "code",
   "execution_count": 27,
   "id": "b0b82ea3",
   "metadata": {},
   "outputs": [
    {
     "name": "stdout",
     "output_type": "stream",
     "text": [
      "The wrapper can access all the variables\n",
      "\t from the decorator maker: Pandas Numpy Scikit-learn\n",
      "\t from the function call: John Science Tools\n",
      "and pass them into decorator function\n",
      "This is decorated function and it only knows about its args: John Science Tools\n"
     ]
    }
   ],
   "source": [
    "# passing argument to decorator\n",
    "\n",
    "def decorator_with_args(decorator_args1, decorator_args2, decorator_args3):\n",
    "    \n",
    "    def decorator(func):\n",
    "        def wrapper(function_args1, function_args2, function_args3):\n",
    "            print(f\"The wrapper can access all the variables\\n\"\n",
    "                  f\"\\t from the decorator maker: {decorator_args1} {decorator_args2} {decorator_args3}\\n\"\n",
    "                  f\"\\t from the function call: {function_args1} {function_args2} {function_args3}\\n\"\n",
    "                  f\"and pass them into decorator function\")\n",
    "            \n",
    "            return func(function_args1, function_args2, function_args3)\n",
    "        return wrapper\n",
    "    return decorator\n",
    "\n",
    "pandas = \"Pandas\"\n",
    "@decorator_with_args(pandas, \"Numpy\", \"Scikit-learn\")\n",
    "def actual_function(function_args1, function_args2, function_args3):\n",
    "    print(f\"This is decorated function and it only knows about its args: {function_args1} {function_args2} {function_args3}\")\n",
    "    \n",
    "actual_function(\"John\", \"Science\", \"Tools\")"
   ]
  },
  {
   "cell_type": "code",
   "execution_count": 30,
   "id": "abba1d87",
   "metadata": {},
   "outputs": [
    {
     "data": {
      "text/plain": [
       "3"
      ]
     },
     "execution_count": 30,
     "metadata": {},
     "output_type": "execute_result"
    }
   ],
   "source": [
    "def count_digits(num):\n",
    "    count = 0\n",
    "    while(num > 0):\n",
    "        num = num // 10\n",
    "        count += 1\n",
    "    return count\n",
    "count_digits(321)"
   ]
  },
  {
   "cell_type": "code",
   "execution_count": 31,
   "id": "8370bbd1",
   "metadata": {},
   "outputs": [
    {
     "data": {
      "text/plain": [
       "32"
      ]
     },
     "execution_count": 31,
     "metadata": {},
     "output_type": "execute_result"
    }
   ],
   "source": [
    "321 // 10"
   ]
  },
  {
   "cell_type": "code",
   "execution_count": 32,
   "id": "bd5dfad2",
   "metadata": {},
   "outputs": [
    {
     "data": {
      "text/plain": [
       "3"
      ]
     },
     "execution_count": 32,
     "metadata": {},
     "output_type": "execute_result"
    }
   ],
   "source": [
    "32 // 10"
   ]
  },
  {
   "cell_type": "code",
   "execution_count": 33,
   "id": "8d4d8828",
   "metadata": {},
   "outputs": [
    {
     "data": {
      "text/plain": [
       "0"
      ]
     },
     "execution_count": 33,
     "metadata": {},
     "output_type": "execute_result"
    }
   ],
   "source": [
    "3 // 10"
   ]
  },
  {
   "cell_type": "code",
   "execution_count": 37,
   "id": "80c46145",
   "metadata": {},
   "outputs": [],
   "source": [
    "# chaining of decorators\n",
    "\n",
    "#from functions import wraps\n",
    "# code for testing decorator chaining\n",
    "\n",
    "def decor1(func):\n",
    "    def inner():\n",
    "        x = func()\n",
    "        print(\"X in decor2\", x)\n",
    "        return x*x\n",
    "    return inner\n",
    "\n",
    "def decor(func):\n",
    "    def inner():\n",
    "        x = func()\n",
    "        print(\"X in decor 1st...\", x)\n",
    "        return 2*x\n",
    "    return inner\n",
    "\n",
    "@decor1\n",
    "@decor\n",
    "def num():\n",
    "    return 10\n"
   ]
  },
  {
   "cell_type": "code",
   "execution_count": 38,
   "id": "180f5312",
   "metadata": {},
   "outputs": [
    {
     "name": "stdout",
     "output_type": "stream",
     "text": [
      "X in decor 1st... 10\n",
      "X in decor2 20\n"
     ]
    },
    {
     "data": {
      "text/plain": [
       "400"
      ]
     },
     "execution_count": 38,
     "metadata": {},
     "output_type": "execute_result"
    }
   ],
   "source": [
    "num()"
   ]
  },
  {
   "cell_type": "code",
   "execution_count": 40,
   "id": "ef30b998",
   "metadata": {},
   "outputs": [
    {
     "name": "stdout",
     "output_type": "stream",
     "text": [
      "hi\n",
      "hello\n"
     ]
    },
    {
     "data": {
      "text/plain": [
       "'hello'"
      ]
     },
     "execution_count": 40,
     "metadata": {},
     "output_type": "execute_result"
    }
   ],
   "source": [
    "def simple_func(): # define\n",
    "    print(\"hi\") # logic\n",
    "    print(\"hello\") # 2\n",
    "    return 'hello' # 3 manipulation\n",
    "                   # return computed\n",
    "                   # logic ....\n",
    "simple_func()"
   ]
  },
  {
   "cell_type": "code",
   "execution_count": 41,
   "id": "6d9ff2fd",
   "metadata": {},
   "outputs": [
    {
     "data": {
      "text/plain": [
       "function"
      ]
     },
     "execution_count": 41,
     "metadata": {},
     "output_type": "execute_result"
    }
   ],
   "source": [
    "type(simple_func)"
   ]
  },
  {
   "cell_type": "code",
   "execution_count": 48,
   "id": "5a7e69c9",
   "metadata": {},
   "outputs": [],
   "source": [
    "def simple_generator():\n",
    "    print(\"hi\")\n",
    "    yield 'hello'\n",
    "    x = 10\n",
    "    y = x + 5\n",
    "    print(y)\n",
    "    yield 'Hello World'\n",
    "    yield x"
   ]
  },
  {
   "cell_type": "code",
   "execution_count": 49,
   "id": "55da564d",
   "metadata": {},
   "outputs": [
    {
     "data": {
      "text/plain": [
       "<generator object simple_generator at 0x00000156E64B9510>"
      ]
     },
     "execution_count": 49,
     "metadata": {},
     "output_type": "execute_result"
    }
   ],
   "source": [
    "ret = simple_generator()\n",
    "ret"
   ]
  },
  {
   "cell_type": "code",
   "execution_count": 44,
   "id": "dd264753",
   "metadata": {},
   "outputs": [
    {
     "name": "stdout",
     "output_type": "stream",
     "text": [
      "hi\n",
      "hello\n",
      "15\n",
      "Hello World\n",
      "10\n"
     ]
    }
   ],
   "source": [
    "for val in ret:\n",
    "    print(val)"
   ]
  },
  {
   "cell_type": "code",
   "execution_count": 47,
   "id": "551499f7",
   "metadata": {},
   "outputs": [
    {
     "name": "stdout",
     "output_type": "stream",
     "text": [
      "hi\n",
      "15\n"
     ]
    },
    {
     "data": {
      "text/plain": [
       "['hello', 'Hello World', 10]"
      ]
     },
     "execution_count": 47,
     "metadata": {},
     "output_type": "execute_result"
    }
   ],
   "source": [
    "list(ret)"
   ]
  },
  {
   "cell_type": "code",
   "execution_count": 50,
   "id": "68ba9752",
   "metadata": {},
   "outputs": [
    {
     "name": "stdout",
     "output_type": "stream",
     "text": [
      "hi\n"
     ]
    },
    {
     "data": {
      "text/plain": [
       "'hello'"
      ]
     },
     "execution_count": 50,
     "metadata": {},
     "output_type": "execute_result"
    }
   ],
   "source": [
    "next(ret)"
   ]
  },
  {
   "cell_type": "code",
   "execution_count": 51,
   "id": "676a981f",
   "metadata": {},
   "outputs": [
    {
     "name": "stdout",
     "output_type": "stream",
     "text": [
      "15\n"
     ]
    },
    {
     "data": {
      "text/plain": [
       "'Hello World'"
      ]
     },
     "execution_count": 51,
     "metadata": {},
     "output_type": "execute_result"
    }
   ],
   "source": [
    "next(ret)"
   ]
  },
  {
   "cell_type": "code",
   "execution_count": 52,
   "id": "2956272b",
   "metadata": {},
   "outputs": [
    {
     "data": {
      "text/plain": [
       "10"
      ]
     },
     "execution_count": 52,
     "metadata": {},
     "output_type": "execute_result"
    }
   ],
   "source": [
    "next(ret)"
   ]
  },
  {
   "cell_type": "code",
   "execution_count": 53,
   "id": "32257bac",
   "metadata": {},
   "outputs": [
    {
     "ename": "StopIteration",
     "evalue": "",
     "output_type": "error",
     "traceback": [
      "\u001b[1;31m---------------------------------------------------------------------------\u001b[0m",
      "\u001b[1;31mStopIteration\u001b[0m                             Traceback (most recent call last)",
      "\u001b[1;32mC:\\Users\\KARTIK~1\\AppData\\Local\\Temp/ipykernel_10864/167560125.py\u001b[0m in \u001b[0;36m<module>\u001b[1;34m\u001b[0m\n\u001b[1;32m----> 1\u001b[1;33m \u001b[0mnext\u001b[0m\u001b[1;33m(\u001b[0m\u001b[0mret\u001b[0m\u001b[1;33m)\u001b[0m\u001b[1;33m\u001b[0m\u001b[1;33m\u001b[0m\u001b[0m\n\u001b[0m",
      "\u001b[1;31mStopIteration\u001b[0m: "
     ]
    }
   ],
   "source": [
    "next(ret)"
   ]
  },
  {
   "cell_type": "code",
   "execution_count": 62,
   "id": "0655bcaa",
   "metadata": {},
   "outputs": [],
   "source": [
    "def fibonacci(n):\n",
    "    fib_nums = []\n",
    "    a = 0\n",
    "    b = 1\n",
    "    while(a <= n):\n",
    "        fib_nums.append(a)\n",
    "        a, b = b, a + b\n",
    "    print(fib_nums)"
   ]
  },
  {
   "cell_type": "code",
   "execution_count": 63,
   "id": "8b4750fb",
   "metadata": {},
   "outputs": [
    {
     "name": "stdout",
     "output_type": "stream",
     "text": [
      "[0, 1, 1, 2, 3, 5, 8, 13]\n"
     ]
    }
   ],
   "source": [
    "fibonacci(13)"
   ]
  },
  {
   "cell_type": "code",
   "execution_count": 74,
   "id": "56554b94",
   "metadata": {},
   "outputs": [],
   "source": [
    "def fibonacci(n):\n",
    "    first, second = 0, 1\n",
    "    while n:\n",
    "        yield first\n",
    "        first, second = second, first + second\n",
    "        n -= 1"
   ]
  },
  {
   "cell_type": "code",
   "execution_count": 75,
   "id": "e3f7006a",
   "metadata": {},
   "outputs": [],
   "source": [
    "gen = fibonacci(13)"
   ]
  },
  {
   "cell_type": "code",
   "execution_count": 67,
   "id": "046fef52",
   "metadata": {},
   "outputs": [
    {
     "data": {
      "text/plain": [
       "0"
      ]
     },
     "execution_count": 67,
     "metadata": {},
     "output_type": "execute_result"
    }
   ],
   "source": [
    "next(gen)"
   ]
  },
  {
   "cell_type": "code",
   "execution_count": 68,
   "id": "16d44639",
   "metadata": {},
   "outputs": [
    {
     "data": {
      "text/plain": [
       "1"
      ]
     },
     "execution_count": 68,
     "metadata": {},
     "output_type": "execute_result"
    }
   ],
   "source": [
    "next(gen)"
   ]
  },
  {
   "cell_type": "code",
   "execution_count": 72,
   "id": "54205a79",
   "metadata": {},
   "outputs": [
    {
     "data": {
      "text/plain": [
       "[0, 1, 1, 2, 3, 5, 8, 13, 21, 34, 55, 89, 144]"
      ]
     },
     "execution_count": 72,
     "metadata": {},
     "output_type": "execute_result"
    }
   ],
   "source": [
    "list(gen)"
   ]
  },
  {
   "cell_type": "code",
   "execution_count": 76,
   "id": "7bb30a81",
   "metadata": {},
   "outputs": [
    {
     "name": "stdout",
     "output_type": "stream",
     "text": [
      "0\n",
      "1\n",
      "1\n",
      "2\n",
      "3\n",
      "5\n",
      "8\n",
      "13\n",
      "21\n",
      "34\n",
      "55\n",
      "89\n",
      "144\n"
     ]
    }
   ],
   "source": [
    "for val in gen:\n",
    "    print(val)"
   ]
  },
  {
   "cell_type": "code",
   "execution_count": 77,
   "id": "8f729d83",
   "metadata": {},
   "outputs": [],
   "source": [
    "import random\n",
    "name = [\"akshay\", \"john\", \"ale\", \"fred\"]\n",
    "designations = [\"ngr\", \"se\", \"sse\", \"admin\", \"hr\", \"fin\"]\n",
    "\n",
    "def people_list():\n",
    "    people = []\n",
    "    for i in range(1000000):\n",
    "        person = {\"id\": 1, \"name\": random.choice(name),\n",
    "                  \"desginations\": random.choice(designations)}\n",
    "        people.append(person)\n",
    "    return people\n",
    "\n",
    "def people_generator():\n",
    "    for i in range(1000000):\n",
    "        person = {\"id\": 1, \"name\": random.choice(name),\n",
    "                 \"designations\": random.choice(designations)}\n",
    "        yield person"
   ]
  },
  {
   "cell_type": "code",
   "execution_count": 78,
   "id": "e2067830",
   "metadata": {},
   "outputs": [
    {
     "data": {
      "text/plain": [
       "[{'id': 1, 'name': 'fred', 'desginations': 'se'},\n",
       " {'id': 1, 'name': 'fred', 'desginations': 'se'},\n",
       " {'id': 1, 'name': 'john', 'desginations': 'se'},\n",
       " {'id': 1, 'name': 'akshay', 'desginations': 'fin'},\n",
       " {'id': 1, 'name': 'akshay', 'desginations': 'hr'},\n",
       " {'id': 1, 'name': 'ale', 'desginations': 'admin'},\n",
       " {'id': 1, 'name': 'akshay', 'desginations': 'hr'},\n",
       " {'id': 1, 'name': 'fred', 'desginations': 'fin'},\n",
       " {'id': 1, 'name': 'akshay', 'desginations': 'sse'},\n",
       " {'id': 1, 'name': 'ale', 'desginations': 'hr'},\n",
       " {'id': 1, 'name': 'ale', 'desginations': 'fin'},\n",
       " {'id': 1, 'name': 'john', 'desginations': 'se'},\n",
       " {'id': 1, 'name': 'akshay', 'desginations': 'sse'},\n",
       " {'id': 1, 'name': 'fred', 'desginations': 'ngr'},\n",
       " {'id': 1, 'name': 'fred', 'desginations': 'ngr'},\n",
       " {'id': 1, 'name': 'fred', 'desginations': 'hr'},\n",
       " {'id': 1, 'name': 'fred', 'desginations': 'admin'},\n",
       " {'id': 1, 'name': 'ale', 'desginations': 'admin'},\n",
       " {'id': 1, 'name': 'fred', 'desginations': 'fin'},\n",
       " {'id': 1, 'name': 'fred', 'desginations': 'admin'},\n",
       " {'id': 1, 'name': 'fred', 'desginations': 'sse'},\n",
       " {'id': 1, 'name': 'ale', 'desginations': 'hr'},\n",
       " {'id': 1, 'name': 'john', 'desginations': 'fin'},\n",
       " {'id': 1, 'name': 'john', 'desginations': 'fin'},\n",
       " {'id': 1, 'name': 'fred', 'desginations': 'fin'},\n",
       " {'id': 1, 'name': 'fred', 'desginations': 'fin'},\n",
       " {'id': 1, 'name': 'fred', 'desginations': 'hr'},\n",
       " {'id': 1, 'name': 'fred', 'desginations': 'sse'},\n",
       " {'id': 1, 'name': 'john', 'desginations': 'fin'},\n",
       " {'id': 1, 'name': 'ale', 'desginations': 'admin'},\n",
       " {'id': 1, 'name': 'john', 'desginations': 'hr'},\n",
       " {'id': 1, 'name': 'ale', 'desginations': 'admin'},\n",
       " {'id': 1, 'name': 'john', 'desginations': 'admin'},\n",
       " {'id': 1, 'name': 'john', 'desginations': 'admin'},\n",
       " {'id': 1, 'name': 'fred', 'desginations': 'fin'},\n",
       " {'id': 1, 'name': 'akshay', 'desginations': 'ngr'},\n",
       " {'id': 1, 'name': 'john', 'desginations': 'admin'},\n",
       " {'id': 1, 'name': 'john', 'desginations': 'ngr'},\n",
       " {'id': 1, 'name': 'john', 'desginations': 'sse'},\n",
       " {'id': 1, 'name': 'ale', 'desginations': 'se'},\n",
       " {'id': 1, 'name': 'john', 'desginations': 'admin'},\n",
       " {'id': 1, 'name': 'fred', 'desginations': 'se'},\n",
       " {'id': 1, 'name': 'john', 'desginations': 'fin'},\n",
       " {'id': 1, 'name': 'ale', 'desginations': 'fin'},\n",
       " {'id': 1, 'name': 'john', 'desginations': 'sse'},\n",
       " {'id': 1, 'name': 'john', 'desginations': 'sse'},\n",
       " {'id': 1, 'name': 'john', 'desginations': 'ngr'},\n",
       " {'id': 1, 'name': 'akshay', 'desginations': 'fin'},\n",
       " {'id': 1, 'name': 'john', 'desginations': 'hr'},\n",
       " {'id': 1, 'name': 'ale', 'desginations': 'fin'},\n",
       " {'id': 1, 'name': 'john', 'desginations': 'sse'},\n",
       " {'id': 1, 'name': 'akshay', 'desginations': 'fin'},\n",
       " {'id': 1, 'name': 'john', 'desginations': 'fin'},\n",
       " {'id': 1, 'name': 'ale', 'desginations': 'se'},\n",
       " {'id': 1, 'name': 'john', 'desginations': 'sse'},\n",
       " {'id': 1, 'name': 'akshay', 'desginations': 'sse'},\n",
       " {'id': 1, 'name': 'john', 'desginations': 'fin'},\n",
       " {'id': 1, 'name': 'fred', 'desginations': 'hr'},\n",
       " {'id': 1, 'name': 'john', 'desginations': 'sse'},\n",
       " {'id': 1, 'name': 'john', 'desginations': 'se'},\n",
       " {'id': 1, 'name': 'john', 'desginations': 'fin'},\n",
       " {'id': 1, 'name': 'akshay', 'desginations': 'hr'},\n",
       " {'id': 1, 'name': 'akshay', 'desginations': 'fin'},\n",
       " {'id': 1, 'name': 'john', 'desginations': 'admin'},\n",
       " {'id': 1, 'name': 'ale', 'desginations': 'se'},\n",
       " {'id': 1, 'name': 'fred', 'desginations': 'admin'},\n",
       " {'id': 1, 'name': 'ale', 'desginations': 'se'},\n",
       " {'id': 1, 'name': 'akshay', 'desginations': 'ngr'},\n",
       " {'id': 1, 'name': 'ale', 'desginations': 'admin'},\n",
       " {'id': 1, 'name': 'john', 'desginations': 'se'},\n",
       " {'id': 1, 'name': 'ale', 'desginations': 'ngr'},\n",
       " {'id': 1, 'name': 'john', 'desginations': 'hr'},\n",
       " {'id': 1, 'name': 'ale', 'desginations': 'se'},\n",
       " {'id': 1, 'name': 'fred', 'desginations': 'ngr'},\n",
       " {'id': 1, 'name': 'ale', 'desginations': 'hr'},\n",
       " {'id': 1, 'name': 'john', 'desginations': 'se'},\n",
       " {'id': 1, 'name': 'akshay', 'desginations': 'admin'},\n",
       " {'id': 1, 'name': 'akshay', 'desginations': 'fin'},\n",
       " {'id': 1, 'name': 'ale', 'desginations': 'ngr'},\n",
       " {'id': 1, 'name': 'john', 'desginations': 'hr'},\n",
       " {'id': 1, 'name': 'john', 'desginations': 'hr'},\n",
       " {'id': 1, 'name': 'akshay', 'desginations': 'se'},\n",
       " {'id': 1, 'name': 'ale', 'desginations': 'fin'},\n",
       " {'id': 1, 'name': 'ale', 'desginations': 'se'},\n",
       " {'id': 1, 'name': 'ale', 'desginations': 'hr'},\n",
       " {'id': 1, 'name': 'akshay', 'desginations': 'admin'},\n",
       " {'id': 1, 'name': 'ale', 'desginations': 'admin'},\n",
       " {'id': 1, 'name': 'fred', 'desginations': 'fin'},\n",
       " {'id': 1, 'name': 'akshay', 'desginations': 'se'},\n",
       " {'id': 1, 'name': 'john', 'desginations': 'se'},\n",
       " {'id': 1, 'name': 'john', 'desginations': 'ngr'},\n",
       " {'id': 1, 'name': 'fred', 'desginations': 'hr'},\n",
       " {'id': 1, 'name': 'john', 'desginations': 'ngr'},\n",
       " {'id': 1, 'name': 'ale', 'desginations': 'se'},\n",
       " {'id': 1, 'name': 'akshay', 'desginations': 'admin'},\n",
       " {'id': 1, 'name': 'fred', 'desginations': 'ngr'},\n",
       " {'id': 1, 'name': 'ale', 'desginations': 'ngr'},\n",
       " {'id': 1, 'name': 'fred', 'desginations': 'admin'},\n",
       " {'id': 1, 'name': 'fred', 'desginations': 'ngr'},\n",
       " {'id': 1, 'name': 'john', 'desginations': 'hr'}]"
      ]
     },
     "execution_count": 78,
     "metadata": {},
     "output_type": "execute_result"
    }
   ],
   "source": [
    "p = people_list()\n",
    "p[:100]"
   ]
  },
  {
   "cell_type": "code",
   "execution_count": 79,
   "id": "72c54916",
   "metadata": {},
   "outputs": [],
   "source": [
    "def frange(start, stop, increment):\n",
    "    x = start\n",
    "    while x < stop:\n",
    "        yield x\n",
    "        x += increment"
   ]
  },
  {
   "cell_type": "code",
   "execution_count": 80,
   "id": "60b2a9d5",
   "metadata": {},
   "outputs": [
    {
     "name": "stdout",
     "output_type": "stream",
     "text": [
      "<class 'generator'>\n",
      "0\n",
      "0.5\n",
      "1.0\n",
      "1.5\n",
      "2.0\n",
      "2.5\n",
      "3.0\n",
      "3.5\n"
     ]
    }
   ],
   "source": [
    "c = frange(0, 4, 0.5)\n",
    "print(type(c))\n",
    "\n",
    "for n in frange(0, 4, 0.5):\n",
    "    print(n)"
   ]
  },
  {
   "cell_type": "code",
   "execution_count": 86,
   "id": "b6e6f811",
   "metadata": {},
   "outputs": [],
   "source": [
    "def countdown(n):\n",
    "    print(\"Starting to count from:\", n)\n",
    "    while n > 0:\n",
    "        yield n\n",
    "        n -= 1\n",
    "    print(\"Done\")"
   ]
  },
  {
   "cell_type": "code",
   "execution_count": 87,
   "id": "5bcbdac1",
   "metadata": {},
   "outputs": [],
   "source": [
    "c = countdown(3)"
   ]
  },
  {
   "cell_type": "code",
   "execution_count": 83,
   "id": "cd492aef",
   "metadata": {},
   "outputs": [
    {
     "name": "stdout",
     "output_type": "stream",
     "text": [
      "Starting to count from: 3\n"
     ]
    },
    {
     "data": {
      "text/plain": [
       "3"
      ]
     },
     "execution_count": 83,
     "metadata": {},
     "output_type": "execute_result"
    }
   ],
   "source": [
    "next(c)"
   ]
  },
  {
   "cell_type": "code",
   "execution_count": 84,
   "id": "15837fb9",
   "metadata": {},
   "outputs": [
    {
     "data": {
      "text/plain": [
       "2"
      ]
     },
     "execution_count": 84,
     "metadata": {},
     "output_type": "execute_result"
    }
   ],
   "source": [
    "next(c)"
   ]
  },
  {
   "cell_type": "code",
   "execution_count": 85,
   "id": "8298829d",
   "metadata": {},
   "outputs": [
    {
     "data": {
      "text/plain": [
       "1"
      ]
     },
     "execution_count": 85,
     "metadata": {},
     "output_type": "execute_result"
    }
   ],
   "source": [
    "next(c)"
   ]
  },
  {
   "cell_type": "code",
   "execution_count": 88,
   "id": "1468bc38",
   "metadata": {},
   "outputs": [
    {
     "name": "stdout",
     "output_type": "stream",
     "text": [
      "Starting to count from: 3\n",
      "Done\n"
     ]
    },
    {
     "data": {
      "text/plain": [
       "[3, 2, 1]"
      ]
     },
     "execution_count": 88,
     "metadata": {},
     "output_type": "execute_result"
    }
   ],
   "source": [
    "list(c)"
   ]
  },
  {
   "cell_type": "code",
   "execution_count": 89,
   "id": "7ed6fb1a",
   "metadata": {},
   "outputs": [
    {
     "name": "stdout",
     "output_type": "stream",
     "text": [
      "('a', 'b', 'c')\n",
      "('a', 'c', 'b')\n",
      "('b', 'a', 'c')\n",
      "('b', 'c', 'a')\n",
      "('c', 'a', 'b')\n",
      "('c', 'b', 'a')\n"
     ]
    }
   ],
   "source": [
    "# Calculate the permuation and combination of below list\n",
    "\n",
    "items = ['a', 'b', 'c']\n",
    "from itertools import permutations\n",
    "for p in permutations(items):\n",
    "    print(p)"
   ]
  },
  {
   "cell_type": "code",
   "execution_count": 90,
   "id": "07f6c9de",
   "metadata": {},
   "outputs": [
    {
     "name": "stdout",
     "output_type": "stream",
     "text": [
      "('a', 'b', 'c')\n"
     ]
    }
   ],
   "source": [
    "from itertools import combinations\n",
    "for c in combinations(items, 3):\n",
    "    print(c)"
   ]
  },
  {
   "cell_type": "code",
   "execution_count": 91,
   "id": "d352a7ef",
   "metadata": {},
   "outputs": [
    {
     "name": "stdout",
     "output_type": "stream",
     "text": [
      "('a', 'b')\n",
      "('a', 'c')\n",
      "('b', 'c')\n"
     ]
    }
   ],
   "source": [
    "from itertools import combinations\n",
    "for c in combinations(items, 2):\n",
    "    print(c)"
   ]
  },
  {
   "cell_type": "code",
   "execution_count": 92,
   "id": "c622ada1",
   "metadata": {},
   "outputs": [
    {
     "name": "stdout",
     "output_type": "stream",
     "text": [
      "('a',)\n",
      "('b',)\n",
      "('c',)\n"
     ]
    }
   ],
   "source": [
    "from itertools import combinations\n",
    "for c in combinations(items, 1):\n",
    "    print(c)"
   ]
  },
  {
   "cell_type": "code",
   "execution_count": 93,
   "id": "2938f632",
   "metadata": {},
   "outputs": [
    {
     "name": "stdout",
     "output_type": "stream",
     "text": [
      "0 a\n",
      "1 b\n",
      "2 c\n"
     ]
    }
   ],
   "source": [
    "mylist = ['a', 'b', 'c']\n",
    "for idx, val in enumerate(mylist):\n",
    "    print(idx, val)"
   ]
  },
  {
   "cell_type": "code",
   "execution_count": 94,
   "id": "ab7c2efa",
   "metadata": {},
   "outputs": [
    {
     "name": "stdout",
     "output_type": "stream",
     "text": [
      "1 a\n",
      "2 b\n",
      "3 c\n"
     ]
    }
   ],
   "source": [
    "for idx, val in enumerate(mylist, 1):\n",
    "    print(idx, val)"
   ]
  },
  {
   "cell_type": "code",
   "execution_count": 98,
   "id": "f5d77439",
   "metadata": {},
   "outputs": [
    {
     "name": "stdout",
     "output_type": "stream",
     "text": [
      "{1: 101, 2: 102, 3: 103, 4: 104, 5: 105}\n"
     ]
    }
   ],
   "source": [
    "x = [1, 2, 3, 4, 5]\n",
    "y = [101, 102, 103, 104, 105]\n",
    "d= {}\n",
    "for i, j in zip(x, y):\n",
    "    d[i] = j\n",
    "print(d)"
   ]
  },
  {
   "cell_type": "code",
   "execution_count": 99,
   "id": "d71b18bd",
   "metadata": {},
   "outputs": [
    {
     "name": "stdout",
     "output_type": "stream",
     "text": [
      "(1, 'w')\n",
      "(2, 'x')\n",
      "(3, 'y')\n"
     ]
    }
   ],
   "source": [
    "a = [1, 2, 3]\n",
    "b = ['w', 'x', 'y', 'z']\n",
    "for i in zip(a, b):\n",
    "    print(i)"
   ]
  },
  {
   "cell_type": "code",
   "execution_count": 100,
   "id": "50cda6db",
   "metadata": {},
   "outputs": [
    {
     "name": "stdout",
     "output_type": "stream",
     "text": [
      "(1, 'w')\n",
      "(2, 'x')\n",
      "(3, 'y')\n",
      "(None, 'z')\n"
     ]
    }
   ],
   "source": [
    "from itertools import zip_longest\n",
    "for i in zip_longest(a, b):\n",
    "    print(i)"
   ]
  },
  {
   "cell_type": "code",
   "execution_count": 101,
   "id": "46b91f75",
   "metadata": {},
   "outputs": [
    {
     "name": "stdout",
     "output_type": "stream",
     "text": [
      "(1, 'w', 10)\n",
      "(2, 'x', 11)\n",
      "(3, 'y', 12)\n"
     ]
    }
   ],
   "source": [
    "a = [1, 2, 3]\n",
    "b = ['w', 'x', 'y']\n",
    "c = [10, 11, 12]\n",
    "for i in zip(a, b, c):\n",
    "    print(i)"
   ]
  },
  {
   "cell_type": "code",
   "execution_count": 102,
   "id": "ee880831",
   "metadata": {},
   "outputs": [
    {
     "name": "stdout",
     "output_type": "stream",
     "text": [
      "1\n",
      "2\n",
      "3\n",
      "w\n",
      "x\n",
      "y\n",
      "10\n",
      "11\n",
      "12\n"
     ]
    }
   ],
   "source": [
    "from itertools import chain\n",
    "for x in chain(a, b, c):\n",
    "    print(x)"
   ]
  },
  {
   "cell_type": "code",
   "execution_count": 108,
   "id": "4633dae3",
   "metadata": {},
   "outputs": [],
   "source": [
    "# flattenning the nested sequence\n",
    "from collections import Iterable\n",
    "\n",
    "def flatten(items, ignore_types = (str, bytes)):\n",
    "    for x in items:\n",
    "        if isinstance(x, Iterable) and not isinstance(x, ignore_types):\n",
    "            yield from flatten(x) \n",
    "        else:\n",
    "            yield x"
   ]
  },
  {
   "cell_type": "code",
   "execution_count": 109,
   "id": "3d15313b",
   "metadata": {},
   "outputs": [
    {
     "name": "stdout",
     "output_type": "stream",
     "text": [
      "1\n",
      "2\n",
      "3\n",
      "4\n",
      "5\n",
      "6\n",
      "7\n",
      "8\n"
     ]
    }
   ],
   "source": [
    "items = [1, 2, [3, 4, [5, 6], 7], 8]\n",
    "for x in flatten(items):\n",
    "    print(x)"
   ]
  },
  {
   "cell_type": "code",
   "execution_count": 111,
   "id": "b0651f2e",
   "metadata": {},
   "outputs": [
    {
     "name": "stdout",
     "output_type": "stream",
     "text": [
      "john\n",
      "ale\n",
      "fred\n",
      "tom\n"
     ]
    }
   ],
   "source": [
    "items = ['john', ['ale', 'fred'], 'tom']\n",
    "\n",
    "for x in flatten(items):\n",
    "    print(x)"
   ]
  },
  {
   "cell_type": "code",
   "execution_count": 112,
   "id": "e178bc68",
   "metadata": {},
   "outputs": [
    {
     "data": {
      "text/plain": [
       "28"
      ]
     },
     "execution_count": 112,
     "metadata": {},
     "output_type": "execute_result"
    }
   ],
   "source": [
    "# 1. homework check the size of list of range(10000)\n",
    "# check the size of generator\n",
    "\n",
    "import sys, os\n",
    "sys.getsizeof(1)"
   ]
  },
  {
   "cell_type": "code",
   "execution_count": 114,
   "id": "7898d69f",
   "metadata": {},
   "outputs": [
    {
     "data": {
      "text/plain": [
       "80056"
      ]
     },
     "execution_count": 114,
     "metadata": {},
     "output_type": "execute_result"
    }
   ],
   "source": [
    "sys.getsizeof(list(range(10000)))\n"
   ]
  },
  {
   "cell_type": "code",
   "execution_count": 116,
   "id": "61bdee8b",
   "metadata": {},
   "outputs": [
    {
     "name": "stdout",
     "output_type": "stream",
     "text": [
      "Python is Fun\n",
      "Python is Easy to Learn\n",
      "Python has many applications\n",
      "Python is an Interpreted Language\n",
      "Python's syntax resembles that of English Language\n",
      "Python is a very popular language\n"
     ]
    }
   ],
   "source": [
    "# files\n",
    "with open('sample.txt', 'rt') as f:\n",
    "    data = f.read()\n",
    "print(data)"
   ]
  },
  {
   "cell_type": "code",
   "execution_count": 118,
   "id": "993cc432",
   "metadata": {},
   "outputs": [
    {
     "name": "stdout",
     "output_type": "stream",
     "text": [
      "Python is Fun\n",
      "\n",
      "Python is Easy to Learn\n",
      "\n",
      "Python has many applications\n",
      "\n",
      "Python is an Interpreted Language\n",
      "\n",
      "Python's syntax resembles that of English Language\n",
      "\n",
      "Python is a very popular language\n"
     ]
    }
   ],
   "source": [
    "with open('sample.txt', 'rt') as f:\n",
    "    for line in f:\n",
    "        # process line\n",
    "        print(line)"
   ]
  },
  {
   "cell_type": "code",
   "execution_count": 119,
   "id": "4f1f73da",
   "metadata": {},
   "outputs": [],
   "source": [
    "with open(\"somefile.txt\", \"wt\") as f:\n",
    "    f.write(\"Hi\")\n",
    "    f.write(\"Hello\")"
   ]
  },
  {
   "cell_type": "code",
   "execution_count": 120,
   "id": "963978ad",
   "metadata": {},
   "outputs": [
    {
     "name": "stdout",
     "output_type": "stream",
     "text": [
      "Help on built-in function print in module builtins:\n",
      "\n",
      "print(...)\n",
      "    print(value, ..., sep=' ', end='\\n', file=sys.stdout, flush=False)\n",
      "    \n",
      "    Prints the values to a stream, or to sys.stdout by default.\n",
      "    Optional keyword arguments:\n",
      "    file:  a file-like object (stream); defaults to the current sys.stdout.\n",
      "    sep:   string inserted between values, default a space.\n",
      "    end:   string appended after the last value, default a newline.\n",
      "    flush: whether to forcibly flush the stream.\n",
      "\n"
     ]
    }
   ],
   "source": [
    "# redirected output\n",
    "help(print)"
   ]
  },
  {
   "cell_type": "code",
   "execution_count": 125,
   "id": "10fb3a97",
   "metadata": {},
   "outputs": [],
   "source": [
    "with open('abc.txt', 'wt') as f:\n",
    "    print(\"hi\", file = f)\n",
    "    print(\"hello\", file = f)"
   ]
  },
  {
   "cell_type": "code",
   "execution_count": 126,
   "id": "21ad310d",
   "metadata": {},
   "outputs": [
    {
     "name": "stdout",
     "output_type": "stream",
     "text": [
      "hi\n",
      "hello\n",
      "\n"
     ]
    }
   ],
   "source": [
    "with open('abc.txt', 'rt') as f:\n",
    "    print(f.read())"
   ]
  },
  {
   "cell_type": "code",
   "execution_count": 2,
   "id": "7ff9ea43",
   "metadata": {},
   "outputs": [],
   "source": [
    "with open('abc.txt', 'wb') as f:\n",
    "    f.write(b'Hello World')"
   ]
  },
  {
   "cell_type": "code",
   "execution_count": 3,
   "id": "d6e9f4ff",
   "metadata": {},
   "outputs": [
    {
     "name": "stdout",
     "output_type": "stream",
     "text": [
      "b'Hello World'\n"
     ]
    }
   ],
   "source": [
    "with open('abc.txt', 'rb') as f:\n",
    "    print(f.read())"
   ]
  },
  {
   "cell_type": "code",
   "execution_count": 4,
   "id": "ecb1eeb0",
   "metadata": {},
   "outputs": [],
   "source": [
    "import os\n",
    "if not os.path.exists(\"somefile\"):\n",
    "    with open(\"somefile\", \"wt\") as f:\n",
    "        f.write(\"Hello\\n\")\n",
    "else:\n",
    "    print(\"file already exists!!!\")"
   ]
  },
  {
   "cell_type": "code",
   "execution_count": 5,
   "id": "fc16ca23",
   "metadata": {},
   "outputs": [],
   "source": [
    "import gzip\n",
    "with gzip.open(\"somefile-new.gz\", \"wt\") as f:\n",
    "    f.write(\"text compression\")"
   ]
  },
  {
   "cell_type": "code",
   "execution_count": 2,
   "id": "c4281d0a",
   "metadata": {},
   "outputs": [],
   "source": [
    "import bz2\n",
    "with open(\"somefile-new.bz2\", \"wt\") as f:\n",
    "    f.write(\"text compression\")"
   ]
  },
  {
   "cell_type": "code",
   "execution_count": 7,
   "id": "22c0cd49",
   "metadata": {},
   "outputs": [
    {
     "name": "stdout",
     "output_type": "stream",
     "text": [
      "text info text compression\n"
     ]
    }
   ],
   "source": [
    "# read\n",
    "import gzip\n",
    "with gzip.open(\"somefile-new.gz\", \"rt\") as f:\n",
    "    text = f.read()\n",
    "    print(\"text info\",text)"
   ]
  },
  {
   "cell_type": "code",
   "execution_count": 3,
   "id": "79d2fb2a",
   "metadata": {},
   "outputs": [
    {
     "name": "stdout",
     "output_type": "stream",
     "text": [
      "text1 text compression\n"
     ]
    }
   ],
   "source": [
    "# bz2 compression\n",
    "with open(\"somefile-new.bz2\", \"rt\") as f:\n",
    "    text = f.read()\n",
    "    print(\"text1\", text)"
   ]
  },
  {
   "cell_type": "code",
   "execution_count": 14,
   "id": "900fd78f",
   "metadata": {},
   "outputs": [
    {
     "name": "stdout",
     "output_type": "stream",
     "text": [
      "Python is Fun\n",
      "\n",
      "['Python is Easy to Learn\\n', 'Python has many applications\\n', 'Python is an Interpreted Language\\n', \"Python's syntax resembles that of English Language\\n\", 'Python is a very popular language']\n"
     ]
    }
   ],
   "source": [
    "with open(\"sample.txt\") as fh:\n",
    "    print(fh.readline())\n",
    "    print(fh.readlines())"
   ]
  },
  {
   "cell_type": "code",
   "execution_count": 15,
   "id": "9794ab82",
   "metadata": {},
   "outputs": [
    {
     "name": "stdout",
     "output_type": "stream",
     "text": [
      "Python is Fun\n",
      "Python is Easy to Learn\n",
      "Python has many applications\n",
      "Python is an Interpreted Language\n",
      "Python's syntax resembles that of English Language\n",
      "Python is a very popular language\n",
      "[]\n"
     ]
    }
   ],
   "source": [
    "with open(\"sample.txt\") as fh:\n",
    "    data = fh.read()\n",
    "    print(data)\n",
    "    print(fh.readlines())"
   ]
  },
  {
   "cell_type": "code",
   "execution_count": 16,
   "id": "d7a844cc",
   "metadata": {},
   "outputs": [
    {
     "name": "stdout",
     "output_type": "stream",
     "text": [
      "Python is Fun\n",
      "Python is Easy to Learn\n",
      "Python has many applications\n",
      "Python is an Interpreted Language\n",
      "Python's syntax resembles that of English Language\n",
      "Python is a very popular language\n",
      "['Python is Fun\\n', 'Python is Easy to Learn\\n', 'Python has many applications\\n', 'Python is an Interpreted Language\\n', \"Python's syntax resembles that of English Language\\n\", 'Python is a very popular language']\n"
     ]
    }
   ],
   "source": [
    "with open(\"sample.txt\") as fh:\n",
    "    data = fh.read()\n",
    "    print(data)\n",
    "    fh.seek(0)\n",
    "    print(fh.readlines())"
   ]
  },
  {
   "cell_type": "code",
   "execution_count": 17,
   "id": "60d16413",
   "metadata": {},
   "outputs": [
    {
     "name": "stdout",
     "output_type": "stream",
     "text": [
      "Python is Fun\n",
      "Python is Easy to Learn\n",
      "Python has many applications\n",
      "Python is an Interpreted Language\n",
      "Python's syntax resembles that of English Language\n",
      "Python is a very popular language"
     ]
    }
   ],
   "source": [
    "with open(\"sample.txt\") as fh:\n",
    "    for line in fh:\n",
    "        print(line, end = '')"
   ]
  },
  {
   "cell_type": "code",
   "execution_count": 19,
   "id": "6f322319",
   "metadata": {},
   "outputs": [
    {
     "name": "stdout",
     "output_type": "stream",
     "text": [
      "1 Python is Fun\n",
      "2 Python is Easy to Learn\n",
      "3 Python has many applications\n",
      "4 Python is an Interpreted Language\n",
      "5 Python's syntax resembles that of English Language\n",
      "6 Python is a very popular language"
     ]
    }
   ],
   "source": [
    "with open(\"sample.txt\") as fh:\n",
    "    count = 1\n",
    "    for line in fh:\n",
    "        if 'python'.upper() in line.upper():\n",
    "            print(count, line, end = '')\n",
    "            count += 1"
   ]
  },
  {
   "cell_type": "code",
   "execution_count": 33,
   "id": "93d17dc6",
   "metadata": {},
   "outputs": [
    {
     "name": "stdout",
     "output_type": "stream",
     "text": [
      "['Date', 'Open', 'High', 'Low', 'Close', 'Adj Close', 'Volume']\n",
      "['2020-09-21', '3045.949951', '3045.949951', '2960.100098', '2986.699951', '2886.864014', '779499']\n",
      "['2020-09-22', '2984.199951', '3009.449951', '2942.100098', '2985.850098', '2886.042725', '690800']\n",
      "['2020-09-23', '2993.000000', '3047.600098', '2955.000000', '2986.199951', '2886.380859', '949248']\n",
      "['2020-09-24', '2964.899902', '3001.899902', '2912.800049', '2931.850098', '2833.847656', '736921']\n",
      "['2020-09-25', '2954.949951', '2998.500000', '2926.050049', '2957.399902', '2858.543457', '559314']\n",
      "['2020-09-28', '2976.899902', '3022.300049', '2952.850098', '2966.350098', '2867.194336', '902239']\n",
      "['2020-09-29', '2992.699951', '3011.000000', '2890.000000', '2897.500000', '2800.645752', '1189292']\n",
      "['2020-09-30', '2897.550049', '2939.000000', '2870.000000', '2881.100098', '2784.794189', '1095715']\n",
      "['2020-10-01', '2940.000000', '3113.949951', '2940.000000', '2985.399902', '2885.607422', '4741959']\n",
      "['2020-10-05', '3016.399902', '3020.000000', '2930.050049', '2952.300049', '2853.614014', '904969']\n",
      "['2020-10-06', '2985.000000', '2993.000000', '2951.000000', '2972.250000', '2872.897217', '678723']\n",
      "['2020-10-07', '2975.000000', '3097.949951', '2954.550049', '3077.399902', '2974.532227', '2126243']\n",
      "['2020-10-08', '3070.000000', '3110.800049', '3051.000000', '3074.550049', '2971.777588', '1009344']\n",
      "['2020-10-09', '3080.000000', '3097.649902', '3027.600098', '3059.800049', '2957.520752', '698666']\n",
      "['2020-10-12', '3051.000000', '3074.649902', '3011.100098', '3022.750000', '2921.708984', '632718']\n",
      "['2020-10-13', '3025.000000', '3051.100098', '2996.199951', '3034.449951', '2933.017822', '456767']\n",
      "['2020-10-14', '3037.949951', '3075.000000', '3020.000000', '3054.149902', '2952.059326', '822555']\n",
      "['2020-10-15', '3059.949951', '3130.000000', '3019.449951', '3027.399902', '2926.203613', '1076100']\n",
      "['2020-10-16', '3030.000000', '3092.000000', '3029.000000', '3044.750000', '2942.973633', '548742']\n",
      "['2020-10-19', '3070.000000', '3071.949951', '2970.199951', '2980.000000', '2880.388184', '598192']\n",
      "['2020-10-20', '2980.000000', '3018.550049', '2957.000000', '3004.199951', '2903.779053', '899774']\n",
      "['2020-10-21', '3030.000000', '3039.149902', '2992.050049', '3018.000000', '2917.117920', '982019']\n",
      "['2020-10-22', '3009.800049', '3039.449951', '2977.000000', '3006.199951', '2905.712158', '1701072']\n",
      "['2020-10-23', '3030.000000', '3095.500000', '2997.149902', '3082.250000', '2979.220215', '1217651']\n",
      "['2020-10-26', '3097.949951', '3113.750000', '2885.000000', '2895.149902', '2798.374268', '2140237']\n",
      "['2020-10-27', '2910.000000', '2972.250000', '2853.050049', '2947.350098', '2848.829590', '1812330']\n",
      "['2020-10-28', '2947.000000', '2967.000000', '2890.199951', '2944.050049', '2845.639893', '1197897']\n",
      "['2020-10-29', '2918.949951', '2934.000000', '2885.000000', '2925.350098', '2827.564941', '714820']\n",
      "['2020-10-30', '2940.000000', '2963.199951', '2880.100098', '2886.899902', '2790.399902', '722940']\n",
      "['2020-11-02', '2918.000000', '2934.850098', '2822.449951', '2843.699951', '2748.644043', '926407']\n",
      "['2020-11-03', '2855.199951', '2929.949951', '2855.199951', '2914.850098', '2817.416016', '951287']\n",
      "['2020-11-04', '2905.000000', '2947.750000', '2882.399902', '2926.100098', '2828.289795', '710858']\n",
      "['2020-11-05', '2951.000000', '2970.000000', '2927.000000', '2949.300049', '2850.714355', '507235']\n",
      "['2020-11-06', '2960.000000', '3000.000000', '2955.000000', '2977.399902', '2877.875000', '889565']\n",
      "['2020-11-09', '2990.000000', '3022.000000', '2980.000000', '3001.949951', '2901.604248', '550477']\n",
      "['2020-11-10', '3015.000000', '3022.500000', '2967.000000', '2997.500000', '2897.303223', '664054']\n",
      "['2020-11-11', '3017.699951', '3040.000000', '2986.550049', '3023.100098', '2922.047363', '782511']\n",
      "['2020-11-12', '3025.000000', '3040.899902', '2996.250000', '3017.449951', '2916.586182', '646257']\n",
      "['2020-11-13', '3010.000000', '3048.000000', '2995.600098', '3040.750000', '2939.107422', '557563']\n",
      "['2020-11-14', 'null', 'null', 'null', 'null', 'null', 'null']\n",
      "['2020-11-17', '3034.000000', '3048.899902', '2996.449951', '3045.149902', '2943.360107', '501135']\n",
      "['2020-11-18', '3055.800049', '3055.800049', '3003.899902', '3037.899902', '2936.352539', '455293']\n",
      "['2020-11-19', '3033.000000', '3056.500000', '3010.000000', '3034.250000', '2932.824707', '888406']\n",
      "['2020-11-20', '3033.000000', '3085.000000', '3022.000000', '3058.550049', '2956.312500', '820220']\n",
      "['2020-11-23', '3068.000000', '3085.000000', '3030.600098', '3077.750000', '2974.870605', '493600']\n",
      "['2020-11-24', '3077.000000', '3122.000000', '3053.000000', '3095.699951', '2992.220459', '858928']\n",
      "['2020-11-25', '3100.000000', '3160.000000', '3041.000000', '3051.250000', '2949.256348', '1219151']\n",
      "['2020-11-26', '3053.000000', '3150.000000', '3053.000000', '3129.199951', '3024.600830', '1264680']\n",
      "['2020-11-27', '3144.899902', '3249.000000', '3135.699951', '3173.550049', '3067.468262', '2548347']\n",
      "['2020-12-01', '3175.100098', '3248.949951', '3161.000000', '3243.649902', '3135.225098', '1400851']\n",
      "['2020-12-02', '3243.649902', '3348.000000', '3221.500000', '3338.149902', '3226.566162', '1707284']\n",
      "['2020-12-03', '3368.699951', '3371.199951', '3281.000000', '3294.399902', '3184.278564', '965142']\n",
      "['2020-12-04', '3298.300049', '3344.550049', '3288.199951', '3311.399902', '3200.710449', '739106']\n",
      "['2020-12-07', '3311.399902', '3335.000000', '3267.800049', '3319.550049', '3208.588135', '481597']\n",
      "['2020-12-08', '3320.000000', '3384.750000', '3300.550049', '3326.199951', '3215.015625', '823352']\n",
      "['2020-12-09', '3335.000000', '3353.649902', '3300.000000', '3306.550049', '3196.022705', '397850']\n",
      "['2020-12-10', '3306.199951', '3319.949951', '3272.050049', '3290.850098', '3180.847412', '469288']\n",
      "['2020-12-11', '3295.600098', '3337.149902', '3285.550049', '3327.649902', '3216.417236', '611154']\n",
      "['2020-12-14', '3327.649902', '3334.550049', '3265.000000', '3289.000000', '3179.059082', '425416']\n",
      "['2020-12-15', '3284.000000', '3347.199951', '3262.000000', '3271.649902', '3162.289063', '746643']\n",
      "['2020-12-16', '3289.000000', '3308.449951', '3252.000000', '3303.500000', '3193.074463', '616704']\n",
      "['2020-12-17', '3307.100098', '3330.000000', '3258.000000', '3270.449951', '3161.129150', '678073']\n",
      "['2020-12-18', '3275.899902', '3363.000000', '3270.899902', '3347.550049', '3235.652100', '1362381']\n",
      "['2020-12-21', '3352.500000', '3355.000000', '3198.500000', '3238.250000', '3130.005615', '797760']\n",
      "['2020-12-22', '3245.000000', '3285.000000', '3172.000000', '3265.300049', '3156.151367', '825331']\n",
      "['2020-12-23', '3281.000000', '3318.949951', '3261.000000', '3309.649902', '3199.018799', '816586']\n",
      "['2020-12-24', '3318.000000', '3423.550049', '3316.050049', '3374.750000', '3261.942871', '1567636']\n",
      "['2020-12-28', '3388.000000', '3422.000000', '3374.000000', '3414.699951', '3300.557373', '536954']\n",
      "['2020-12-29', '3433.000000', '3459.899902', '3420.050049', '3431.550049', '3316.844238', '682613']\n",
      "['2020-12-30', '3437.199951', '3472.850098', '3405.250000', '3448.149902', '3332.889160', '639180']\n",
      "['2020-12-31', '3464.949951', '3464.949951', '3426.850098', '3444.050049', '3328.926514', '410959']\n",
      "['2021-01-01', '3446.000000', '3494.000000', '3446.000000', '3481.250000', '3364.882813', '421643']\n",
      "['2021-01-04', '3490.000000', '3528.000000', '3465.000000', '3522.449951', '3404.705566', '647829']\n",
      "['2021-01-05', '3500.250000', '3505.000000', '3475.000000', '3492.649902', '3375.901611', '561562']\n",
      "['2021-01-06', '3492.649902', '3527.000000', '3435.899902', '3462.699951', '3346.952881', '591620']\n",
      "['2021-01-07', '3500.000000', '3507.350098', '3428.250000', '3437.949951', '3323.030273', '531361']\n",
      "['2021-01-08', '3469.000000', '3544.600098', '3438.050049', '3529.149902', '3411.181641', '675643']\n",
      "['2021-01-11', '3531.000000', '3634.550049', '3521.000000', '3617.350098', '3496.433594', '788461']\n",
      "['2021-01-12', '3611.949951', '3642.800049', '3558.100098', '3624.250000', '3503.102783', '863270']\n",
      "['2021-01-13', '3624.250000', '3633.000000', '3577.000000', '3600.899902', '3480.533203', '515154']\n",
      "['2021-01-14', '3600.000000', '3658.649902', '3545.000000', '3576.050049', '3456.514160', '743848']\n",
      "['2021-01-15', '3588.000000', '3623.000000', '3541.000000', '3580.300049', '3460.622070', '684649']\n",
      "['2021-01-18', '3552.000000', '3618.050049', '3505.000000', '3563.750000', '3444.625244', '602004']\n",
      "['2021-01-19', '3565.750000', '3664.000000', '3561.100098', '3641.000000', '3519.292969', '586410']\n",
      "['2021-01-20', '3640.000000', '3692.800049', '3629.350098', '3643.949951', '3522.144287', '549040']\n",
      "['2021-01-21', '3672.000000', '3807.000000', '3655.199951', '3703.300049', '3579.510498', '1533886']\n",
      "['2021-01-22', '3749.949951', '4130.000000', '3740.050049', '4089.500000', '3952.801025', '8537143']\n",
      "['2021-01-25', '4150.000000', '4210.000000', '4060.000000', '4168.950195', '4029.595459', '2368224']\n",
      "['2021-01-27', '4133.399902', '4236.649902', '4108.100098', '4146.350098', '4007.750732', '2062088']\n",
      "['2021-01-28', '4080.000000', '4190.000000', '4076.600098', '4135.799805', '3997.553223', '1262871']\n",
      "['2021-01-29', '4168.000000', '4205.350098', '3990.000000', '4005.800049', '3871.898926', '1406268']\n",
      "['2021-02-01', '4064.000000', '4141.000000', '3975.050049', '4114.700195', '3977.158936', '745011']\n",
      "['2021-02-02', '4155.799805', '4271.149902', '4117.250000', '4201.450195', '4061.009033', '1167922']\n",
      "['2021-02-03', '4205.000000', '4259.149902', '4160.100098', '4236.350098', '4094.742432', '681937']\n",
      "['2021-02-04', '4236.350098', '4361.399902', '4200.000000', '4223.500000', '4082.321777', '1163598']\n",
      "['2021-02-05', '4260.000000', '4272.799805', '4161.000000', '4231.250000', '4089.812744', '729191']\n",
      "['2021-02-08', '4231.450195', '4258.500000', '4195.000000', '4237.450195', '4095.805664', '616236']\n",
      "['2021-02-09', '4228.399902', '4238.000000', '4145.000000', '4154.899902', '4016.014893', '721336']\n",
      "['2021-02-10', '4160.000000', '4215.000000', '4100.100098', '4151.549805', '4012.776611', '989105']\n",
      "['2021-02-11', '4155.000000', '4202.399902', '4126.450195', '4181.899902', '4042.112305', '546983']\n",
      "['2021-02-12', '4179.000000', '4195.799805', '4117.000000', '4136.049805', '3997.794922', '360063']\n",
      "['2021-02-15', '4152.200195', '4194.649902', '4111.649902', '4122.299805', '3984.504395', '287922']\n",
      "['2021-02-16', '4130.000000', '4177.600098', '4124.000000', '4132.850098', '3994.702148', '318280']\n",
      "['2021-02-17', '4117.000000', '4205.000000', '4111.000000', '4165.700195', '4026.454102', '554383']\n",
      "['2021-02-18', '4200.000000', '4200.000000', '4102.100098', '4115.450195', '3977.883789', '440460']\n",
      "['2021-02-19', '4106.000000', '4106.700195', '3977.199951', '4001.100098', '3867.355957', '762200']\n",
      "['2021-02-22', '4010.000000', '4040.000000', '3926.850098', '3971.550049', '3838.793701', '762310']\n",
      "['2021-02-23', '3952.000000', '3998.699951', '3890.199951', '3912.250000', '3781.475830', '802871']\n",
      "['2021-02-24', '3927.000000', '3950.000000', '3855.350098', '3931.850098', '3800.420898', '399843']\n",
      "['2021-02-25', '3936.000000', '3980.000000', '3910.050049', '3944.800049', '3812.937988', '632973']\n",
      "['2021-02-26', '3910.500000', '3943.100098', '3773.050049', '3798.699951', '3671.721436', '732210']\n",
      "['2021-03-01', '3798.699951', '3858.800049', '3751.000000', '3814.050049', '3686.558594', '724589']\n",
      "['2021-03-02', '3822.000000', '3962.149902', '3781.500000', '3944.050049', '3812.212891', '735847']\n",
      "['2021-03-03', '3985.000000', '3985.000000', '3863.600098', '3901.100098', '3770.698730', '615104']\n",
      "['2021-03-04', '3875.000000', '3927.600098', '3841.000000', '3879.050049', '3749.385742', '611769']\n",
      "['2021-03-05', '3852.100098', '3913.250000', '3821.750000', '3852.850098', '3724.061523', '719936']\n",
      "['2021-03-08', '3848.000000', '3848.000000', '3770.000000', '3798.750000', '3671.769775', '818275']\n",
      "['2021-03-09', '3802.199951', '3829.699951', '3776.000000', '3798.750000', '3671.769775', '526071']\n",
      "['2021-03-10', '3820.000000', '3879.000000', '3802.000000', '3867.550049', '3738.270264', '545219']\n",
      "['2021-03-12', '3878.000000', '3878.000000', '3734.800049', '3746.399902', '3621.169678', '1119478']\n",
      "['2021-03-15', '3775.000000', '3775.000000', '3621.050049', '3664.649902', '3542.152344', '1024257']\n",
      "['2021-03-16', '3673.149902', '3690.000000', '3635.000000', '3654.449951', '3532.293213', '858553']\n",
      "['2021-03-17', '3650.000000', '3678.000000', '3555.800049', '3569.600098', '3450.279785', '773240']\n",
      "['2021-03-18', '3598.000000', '3692.949951', '3565.000000', '3664.500000', '3542.007324', '1285600']\n",
      "['2021-03-19', '3653.949951', '3673.000000', '3570.199951', '3650.050049', '3528.040527', '1132705']\n",
      "['2021-03-22', '3650.199951', '3685.000000', '3634.300049', '3664.750000', '3542.249023', '502724']\n",
      "['2021-03-23', '3665.550049', '3709.949951', '3641.250000', '3678.350098', '3555.394531', '581531']\n",
      "['2021-03-24', '3661.000000', '3698.000000', '3590.949951', '3603.550049', '3483.094727', '507559']\n",
      "['2021-03-25', '3615.000000', '3615.000000', '3497.000000', '3501.600098', '3384.552734', '808505']\n",
      "['2021-03-26', '3517.100098', '3619.250000', '3517.100098', '3600.050049', '3479.711914', '691000']\n",
      "['2021-03-30', '3604.250000', '3674.750000', '3581.350098', '3666.699951', '3544.133789', '749230']\n",
      "['2021-03-31', '3650.000000', '3683.600098', '3612.050049', '3670.600098', '3547.903564', '694645']\n",
      "['2021-04-01', '3704.000000', '3764.300049', '3690.199951', '3743.050049', '3617.931885', '861229']\n",
      "['2021-04-05', '3700.050049', '3740.000000', '3576.050049', '3598.500000', '3478.213623', '723573']\n",
      "['2021-04-06', '3639.949951', '3640.000000', '3602.250000', '3615.500000', '3494.645264', '501882']\n",
      "['2021-04-07', '3605.000000', '3693.449951', '3596.250000', '3680.199951', '3557.182617', '346982']\n",
      "['2021-04-08', '3698.949951', '3698.949951', '3645.000000', '3649.800049', '3527.798828', '414020']\n",
      "['2021-04-09', '3640.000000', '3694.000000', '3625.000000', '3651.300049', '3529.248779', '484807']\n",
      "['2021-04-12', '3579.500000', '3599.000000', '3480.050049', '3541.000000', '3422.635742', '724230']\n",
      "['2021-04-13', '3569.000000', '3623.699951', '3515.199951', '3602.449951', '3482.031494', '412122']\n",
      "['2021-04-15', '3602.449951', '3655.550049', '3526.100098', '3597.500000', '3477.247070', '614450']\n",
      "['2021-04-16', '3580.000000', '3657.500000', '3569.949951', '3634.649902', '3513.155029', '526787']\n",
      "['2021-04-19', '3525.199951', '3562.000000', '3447.000000', '3515.550049', '3398.036377', '601819']\n",
      "['2021-04-20', '3585.350098', '3624.300049', '3555.100098', '3600.899902', '3480.533203', '676558']\n",
      "['2021-04-22', '3594.800049', '3694.000000', '3573.000000', '3681.399902', '3558.342285', '1005711']\n",
      "['2021-04-23', '3680.000000', '3709.600098', '3640.000000', '3672.500000', '3549.739990', '631762']\n",
      "['2021-04-26', '3682.199951', '3749.000000', '3676.000000', '3738.850098', '3613.872314', '480016']\n",
      "['2021-04-27', '3738.850098', '3798.000000', '3727.199951', '3785.500000', '3658.962646', '518487']\n",
      "['2021-04-28', '3810.050049', '3954.000000', '3807.000000', '3889.750000', '3759.728027', '1252958']\n",
      "['2021-04-29', '3943.000000', '3954.300049', '3807.100098', '3836.449951', '3708.209717', '1335444']\n",
      "['2021-04-30', '3805.000000', '3966.350098', '3800.000000', '3833.750000', '3705.599854', '1340273']\n",
      "['2021-05-03', '3815.000000', '3906.800049', '3785.000000', '3851.850098', '3723.094971', '796444']\n",
      "['2021-05-04', '3877.000000', '3888.000000', '3815.050049', '3830.350098', '3702.313721', '408324']\n",
      "['2021-05-05', '3842.199951', '3852.600098', '3784.100098', '3843.800049', '3715.313965', '371452']\n",
      "['2021-05-06', '3852.000000', '3970.000000', '3852.000000', '3941.199951', '3809.458252', '938078']\n",
      "['2021-05-07', '3954.500000', '3967.800049', '3853.949951', '3866.750000', '3737.496826', '486456']\n",
      "['2021-05-10', '3900.000000', '3903.850098', '3844.500000', '3868.649902', '3739.333252', '306598']\n",
      "['2021-05-11', '3860.000000', '3894.699951', '3811.250000', '3879.300049', '3749.627441', '453808']\n",
      "['2021-05-12', '3866.000000', '3900.000000', '3847.199951', '3875.250000', '3745.712646', '499840']\n",
      "['2021-05-14', '3880.300049', '3894.149902', '3814.000000', '3848.800049', '3720.146973', '481619']\n",
      "['2021-05-17', '3845.000000', '3924.399902', '3833.199951', '3864.399902', '3735.225342', '427552']\n",
      "['2021-05-18', '3898.699951', '4078.000000', '3867.399902', '4067.199951', '3931.246338', '1371585']\n",
      "['2021-05-19', '4075.000000', '4112.000000', '4047.800049', '4095.949951', '3959.035400', '788882']\n",
      "['2021-05-20', '4095.949951', '4129.000000', '4062.100098', '4071.199951', '3935.112793', '465579']\n",
      "['2021-05-21', '4082.199951', '4132.000000', '4055.100098', '4125.549805', '3987.645752', '378016']\n",
      "['2021-05-24', '4125.000000', '4184.850098', '4107.399902', '4142.299805', '4003.835938', '500267']\n",
      "['2021-05-25', '4165.549805', '4187.000000', '4141.000000', '4150.100098', '4011.375488', '297915']\n",
      "['2021-05-26', '4150.100098', '4180.000000', '4142.000000', '4166.299805', '4027.033691', '261524']\n",
      "['2021-05-27', '4170.000000', '4274.000000', '4152.750000', '4246.100098', '4104.166504', '878610']\n",
      "['2021-05-28', '4240.200195', '4256.000000', '4187.649902', '4199.500000', '4059.124023', '285520']\n",
      "['2021-05-31', '4190.000000', '4228.700195', '4167.000000', '4192.799805', '4052.647949', '321021']\n",
      "['2021-06-01', '4204.899902', '4347.000000', '4204.899902', '4238.950195', '4097.255371', '1248169']\n",
      "['2021-06-02', '4227.899902', '4305.899902', '4200.000000', '4295.049805', '4151.479980', '351583']\n",
      "['2021-06-03', '4294.299805', '4300.000000', '4242.000000', '4273.350098', '4130.505371', '323999']\n",
      "['2021-06-04', '4264.399902', '4295.450195', '4240.000000', '4250.049805', '4107.984375', '374317']\n",
      "['2021-06-07', '4258.549805', '4284.899902', '4240.000000', '4249.750000', '4107.694336', '159646']\n",
      "['2021-06-08', '4250.000000', '4275.000000', '4234.000000', '4269.899902', '4127.170898', '150816']\n",
      "['2021-06-09', '4268.000000', '4272.500000', '4201.000000', '4224.500000', '4083.288330', '262617']\n",
      "['2021-06-10', '4229.000000', '4233.500000', '4166.000000', '4179.899902', '4040.179199', '332571']\n",
      "['2021-06-11', '4185.000000', '4216.850098', '4162.000000', '4172.500000', '4033.026611', '188155']\n",
      "['2021-06-14', '4173.000000', '4195.500000', '4127.149902', '4146.500000', '4007.895752', '200657']\n",
      "['2021-06-15', '4155.000000', '4171.799805', '4131.100098', '4138.100098', '3999.776611', '138010']\n",
      "['2021-06-16', '4138.100098', '4158.049805', '4102.000000', '4110.450195', '3973.051025', '216236']\n",
      "['2021-06-17', '4120.000000', '4120.000000', '4042.050049', '4053.899902', '3918.390869', '357704']\n",
      "['2021-06-18', '4055.000000', '4193.350098', '4030.000000', '4167.100098', '4027.807129', '701993']\n",
      "['2021-06-21', '4153.000000', '4196.000000', '4106.450195', '4182.649902', '4042.837158', '374649']\n",
      "['2021-06-22', '4183.299805', '4230.600098', '4155.299805', '4221.600098', '4080.485352', '591793']\n",
      "['2021-06-23', '4230.000000', '4259.649902', '4191.250000', '4198.600098', '4058.254150', '418053']\n",
      "['2021-06-24', '4190.000000', '4236.200195', '4156.750000', '4226.899902', '4085.608154', '314542']\n",
      "['2021-06-25', '4220.000000', '4249.000000', '4178.000000', '4196.149902', '4055.885986', '175051']\n",
      "['2021-06-28', '4196.149902', '4205.250000', '4166.000000', '4183.450195', '4043.610840', '158954']\n",
      "['2021-06-29', '4185.000000', '4188.850098', '4117.000000', '4124.649902', '3986.775879', '332405']\n",
      "['2021-06-30', '4130.000000', '4164.000000', '4119.799805', '4133.850098', '3995.668701', '331122']\n",
      "['2021-07-01', '4141.000000', '4250.000000', '4141.000000', '4204.549805', '4064.005127', '755502']\n",
      "['2021-07-02', '4229.500000', '4229.500000', '4171.000000', '4175.350098', '4035.781494', '375525']\n",
      "['2021-07-05', '4191.600098', '4249.899902', '4186.850098', '4201.500000', '4061.057129', '375703']\n",
      "['2021-07-06', '4203.500000', '4249.000000', '4172.000000', '4195.399902', '4055.161133', '515181']\n",
      "['2021-07-07', '4200.000000', '4224.000000', '4170.000000', '4188.250000', '4048.250000', '392794']\n",
      "['2021-07-08', '4068.699951', '4118.399902', '4030.550049', '4077.300049', '4077.300049', '625491']\n",
      "['2021-07-09', '4077.000000', '4079.949951', '3990.000000', '3995.899902', '3995.899902', '656635']\n",
      "['2021-07-12', '4018.000000', '4030.000000', '3946.899902', '3956.149902', '3956.149902', '512870']\n",
      "['2021-07-13', '3985.000000', '4019.699951', '3954.550049', '3966.100098', '3966.100098', '614101']\n",
      "['2021-07-14', '3969.000000', '4003.100098', '3940.000000', '3953.850098', '3953.850098', '527932']\n",
      "['2021-07-15', '3954.000000', '3969.949951', '3930.300049', '3940.000000', '3940.000000', '310788']\n",
      "['2021-07-16', '3958.000000', '3960.600098', '3925.000000', '3931.949951', '3931.949951', '323569']\n",
      "['2021-07-19', '3922.000000', '3939.000000', '3875.000000', '3882.850098', '3882.850098', '408067']\n",
      "['2021-07-20', '3887.899902', '3932.449951', '3881.899902', '3905.399902', '3905.399902', '467908']\n",
      "['2021-07-22', '3920.000000', '4013.649902', '3781.600098', '3853.199951', '3853.199951', '1707977']\n",
      "['2021-07-23', '3873.000000', '3925.000000', '3825.050049', '3841.899902', '3841.899902', '709478']\n",
      "['2021-07-26', '3852.000000', '3871.300049', '3830.000000', '3836.350098', '3836.350098', '408134']\n",
      "['2021-07-27', '3850.000000', '3859.000000', '3812.000000', '3821.399902', '3821.399902', '391373']\n",
      "['2021-07-28', '3834.000000', '3841.449951', '3781.000000', '3818.500000', '3818.500000', '235770']\n",
      "['2021-07-29', '3827.800049', '3827.800049', '3750.000000', '3763.750000', '3763.750000', '355185']\n",
      "['2021-07-30', '3776.000000', '3858.000000', '3753.149902', '3829.600098', '3829.600098', '511767']\n",
      "['2021-08-02', '3874.000000', '3880.000000', '3813.199951', '3841.550049', '3841.550049', '351187']\n",
      "['2021-08-03', '3830.000000', '3838.000000', '3805.649902', '3828.199951', '3828.199951', '408981']\n",
      "['2021-08-04', '3835.000000', '3864.850098', '3816.000000', '3832.000000', '3832.000000', '363955']\n",
      "['2021-08-05', '3842.000000', '3858.000000', '3813.600098', '3818.750000', '3818.750000', '333818']\n",
      "['2021-08-06', '3833.000000', '3872.350098', '3797.250000', '3847.850098', '3847.850098', '504011']\n",
      "['2021-08-09', '3858.149902', '3898.899902', '3837.050049', '3855.149902', '3855.149902', '396098']\n",
      "['2021-08-10', '3857.000000', '3861.750000', '3785.100098', '3797.949951', '3797.949951', '253258']\n",
      "['2021-08-11', '3800.000000', '3806.250000', '3695.199951', '3727.149902', '3727.149902', '497724']\n",
      "['2021-08-12', '3746.800049', '3777.000000', '3736.000000', '3769.350098', '3769.350098', '316454']\n",
      "['2021-08-13', '3780.000000', '3860.000000', '3760.000000', '3825.750000', '3825.750000', '581862']\n",
      "['2021-08-16', '3826.000000', '3829.000000', '3744.000000', '3748.449951', '3748.449951', '294567']\n",
      "['2021-08-17', '3749.000000', '3819.500000', '3741.550049', '3807.449951', '3807.449951', '319770']\n",
      "['2021-08-18', '3810.000000', '3856.050049', '3775.000000', '3833.050049', '3833.050049', '493285']\n",
      "['2021-08-20', '3780.000000', '3825.000000', '3725.800049', '3751.500000', '3751.500000', '301943']\n",
      "['2021-08-23', '3787.899902', '3787.899902', '3647.149902', '3668.250000', '3668.250000', '455643']\n",
      "['2021-08-24', '3690.000000', '3722.000000', '3653.699951', '3714.750000', '3714.750000', '276602']\n",
      "['2021-08-25', '3731.449951', '3759.949951', '3680.000000', '3689.649902', '3689.649902', '398715']\n",
      "['2021-08-26', '3689.649902', '3719.649902', '3670.000000', '3691.399902', '3691.399902', '283891']\n",
      "['2021-08-27', '3707.399902', '3749.899902', '3679.000000', '3699.449951', '3699.449951', '274822']\n",
      "['2021-08-30', '3717.899902', '3756.600098', '3705.000000', '3720.399902', '3720.399902', '561903']\n",
      "['2021-08-31', '3732.949951', '3739.000000', '3705.600098', '3727.850098', '3727.850098', '693952']\n",
      "['2021-09-01', '3754.000000', '3810.000000', '3730.100098', '3758.300049', '3758.300049', '585605']\n",
      "['2021-09-02', '3789.000000', '3789.000000', '3717.000000', '3720.949951', '3720.949951', '474397']\n",
      "['2021-09-03', '3726.000000', '3809.500000', '3725.000000', '3757.500000', '3757.500000', '740269']\n",
      "['2021-09-06', '3784.449951', '3829.000000', '3770.000000', '3781.100098', '3781.100098', '779715']\n",
      "['2021-09-07', '3796.800049', '3800.649902', '3762.149902', '3770.699951', '3770.699951', '450262']\n",
      "['2021-09-08', '3769.750000', '3769.750000', '3718.000000', '3725.350098', '3725.350098', '396710']\n",
      "['2021-09-09', '3724.899902', '3728.949951', '3695.000000', '3700.600098', '3700.600098', '479537']\n",
      "['2021-09-13', '3699.000000', '3720.000000', '3680.000000', '3699.550049', '3699.550049', '342427']\n",
      "['2021-09-14', '3717.399902', '3767.000000', '3690.000000', '3751.050049', '3751.050049', '741880']\n",
      "['2021-09-15', '3762.600098', '3801.600098', '3758.050049', '3779.100098', '3779.100098', '510406']\n",
      "['2021-09-16', '3798.000000', '3834.000000', '3780.050049', '3813.500000', '3813.500000', '558125']\n",
      "['2021-09-17', '3840.000000', '3879.399902', '3810.449951', '3822.199951', '3822.199951', '1304667']\n",
      "['2021-09-20', '3813.399902', '3813.399902', '3735.000000', '3774.550049', '3774.550049', '143639']\n"
     ]
    }
   ],
   "source": [
    "# processing csv files\n",
    "with open(\"BAJAJ-AUTO.csv\", \"rt\") as f1:\n",
    "    \n",
    "    for line in f1:\n",
    "        #print(line)\n",
    "        rec = line.strip()\n",
    "        cols = [l.strip('\"\"') for l in rec.split(\",\")]\n",
    "        print(cols)"
   ]
  },
  {
   "cell_type": "code",
   "execution_count": null,
   "id": "6106af86",
   "metadata": {},
   "outputs": [],
   "source": [
    "data = {}\n",
    "with open(\"XNSE-BAJAJ_AUTO.csv\") as b, open(\"data-writes.txt\", \"w+\") as w:\n",
    "    pricelist = []\n",
    "    for rec in b:\n",
    "        rec = rec.strip()\n",
    "        cols = [x.strip('\"') for x in rec.split(',')]\n",
    "        if cols[2] == \"Open\" or cols[2] == \"High\":\n",
    "            continue\n",
    "        if cols[1] in data:\n",
    "            data[cols[1].strip()].append(float(cols[2]))\n",
    "        else:\n",
    "            data[cols[1].strip()] = [float(cols[2])]\n",
    "    for year in data:\n",
    "        avg_price = round(sum(data[year]) / len(data[year]), 2)\n",
    "        w.write(\"Avg price for {} is {} \\n\".format(year, avg_price))\n"
   ]
  },
  {
   "cell_type": "code",
   "execution_count": null,
   "id": "12da2c96",
   "metadata": {},
   "outputs": [],
   "source": [
    "data = {}\n",
    "with open(\"XNSE-BAJAJ_AUTO.csv\") as b, open(\"data-writes.txt\", \"w+\") as w:\n",
    "    pricelist = []\n",
    "    for rec in b:\n",
    "        rec = rec.strip()\n",
    "        cols = [x.strip('\"') for x in rec.split(',')]\n",
    "        if cols[2] == \"Open\" or cols[2] == \"High\":\n",
    "            continue\n",
    "        if cols[1] in data:\n",
    "            data[cols[1].strip()].append(float(cols[2]))\n",
    "        else:\n",
    "            data[cols[1].strip()] = [float(cols[2])]\n",
    "    for year in data:\n",
    "        avg_price = round(sum(data[year]) / len(data[year]), 2)\n",
    "        w.write(\"Avg price for {} is {} \\n\".format(year, avg_price))\n"
   ]
  },
  {
   "cell_type": "code",
   "execution_count": 38,
   "id": "22a30d83",
   "metadata": {},
   "outputs": [
    {
     "name": "stdout",
     "output_type": "stream",
     "text": [
      "['$Recycle.Bin', '$WinREAgent', 'data', 'Documents and Settings', 'DumpStack.log.tmp', 'hiberfil.sys', 'Intel', 'MinGW', 'pagefile.sys', 'PerfLogs', 'Program Files', 'Program Files (x86)', 'ProgramData', 'Recovery', 'swapfile.sys', 'System Volume Information', 'Users', 'Windows']\n"
     ]
    }
   ],
   "source": [
    "import os\n",
    "name = os.listdir(\"/\")\n",
    "print(name)"
   ]
  },
  {
   "cell_type": "code",
   "execution_count": 39,
   "id": "cc94b55b",
   "metadata": {},
   "outputs": [],
   "source": [
    "# text, file"
   ]
  },
  {
   "cell_type": "code",
   "execution_count": 40,
   "id": "ed837848",
   "metadata": {},
   "outputs": [],
   "source": [
    "import pickle"
   ]
  },
  {
   "cell_type": "code",
   "execution_count": 48,
   "id": "91c7e5f3",
   "metadata": {},
   "outputs": [],
   "source": [
    "dict_pickle = {\"key\": \"john\", \"name\": \"fred\", \"age\": 21, \"pat\": 400000}\n",
    "f = open(\"pickle1\", \"wb\")\n",
    "# dump the object\n",
    "pickle.dump(dict_pickle, f)"
   ]
  },
  {
   "cell_type": "code",
   "execution_count": null,
   "id": "6563fd2e",
   "metadata": {},
   "outputs": [],
   "source": []
  },
  {
   "cell_type": "code",
   "execution_count": 57,
   "id": "e53783c0",
   "metadata": {},
   "outputs": [
    {
     "name": "stdout",
     "output_type": "stream",
     "text": [
      "b'\\x80\\x04\\x953\\x00\\x00\\x00\\x00\\x00\\x00\\x00}\\x94(\\x8c\\x03key\\x94\\x8c\\x04john\\x94\\x8c\\x04name\\x94\\x8c\\x04fred\\x94\\x8c\\x03age\\x94K\\x15\\x8c\\x03pat\\x94J\\x80\\x1a\\x06\\x00u.'\n"
     ]
    }
   ],
   "source": [
    "# dump into string\n",
    "s = pickle.dumps(dict_pickle)\n",
    "print(s)"
   ]
  },
  {
   "cell_type": "code",
   "execution_count": 72,
   "id": "96c12c98",
   "metadata": {},
   "outputs": [
    {
     "data": {
      "text/plain": [
       "{'key': 'john', 'name': 'fred', 'age': 21, 'pat': 400000}"
      ]
     },
     "execution_count": 72,
     "metadata": {},
     "output_type": "execute_result"
    }
   ],
   "source": [
    "pickle.loads(s)"
   ]
  },
  {
   "cell_type": "code",
   "execution_count": 50,
   "id": "215491ea",
   "metadata": {},
   "outputs": [],
   "source": [
    "# restore from a file\n",
    "f = open('pickle1', 'rb')\n",
    "# load the object\n",
    "data = pickle.load(f)"
   ]
  },
  {
   "cell_type": "code",
   "execution_count": 51,
   "id": "fb93b4ee",
   "metadata": {},
   "outputs": [
    {
     "data": {
      "text/plain": [
       "{'key': 'john', 'name': 'fred', 'age': 21, 'pat': 400000}"
      ]
     },
     "execution_count": 51,
     "metadata": {},
     "output_type": "execute_result"
    }
   ],
   "source": [
    "data"
   ]
  },
  {
   "cell_type": "code",
   "execution_count": 52,
   "id": "972d0834",
   "metadata": {},
   "outputs": [],
   "source": [
    "import pickle"
   ]
  },
  {
   "cell_type": "code",
   "execution_count": 59,
   "id": "cad04cff",
   "metadata": {},
   "outputs": [],
   "source": [
    "f = open(\"somedata1\", \"wb\")"
   ]
  },
  {
   "cell_type": "code",
   "execution_count": 60,
   "id": "1749aa6c",
   "metadata": {},
   "outputs": [],
   "source": [
    "pickle.dump([1, 2, 3, 4], f)"
   ]
  },
  {
   "cell_type": "code",
   "execution_count": 61,
   "id": "1c906235",
   "metadata": {},
   "outputs": [],
   "source": [
    "pickle.dump(\"hello\", f)"
   ]
  },
  {
   "cell_type": "code",
   "execution_count": 62,
   "id": "cee91d80",
   "metadata": {},
   "outputs": [],
   "source": [
    "pickle.dump({\"apple\", \"pear\", \"banana\"}, f)"
   ]
  },
  {
   "cell_type": "code",
   "execution_count": 63,
   "id": "102f154f",
   "metadata": {},
   "outputs": [],
   "source": [
    "f.close()"
   ]
  },
  {
   "cell_type": "code",
   "execution_count": 65,
   "id": "a7c9b043",
   "metadata": {},
   "outputs": [],
   "source": [
    "f = open(\"somedata1\", \"rb\")"
   ]
  },
  {
   "cell_type": "code",
   "execution_count": 66,
   "id": "4fef1300",
   "metadata": {},
   "outputs": [
    {
     "data": {
      "text/plain": [
       "[1, 2, 3, 4]"
      ]
     },
     "execution_count": 66,
     "metadata": {},
     "output_type": "execute_result"
    }
   ],
   "source": [
    "pickle.load(f)"
   ]
  },
  {
   "cell_type": "code",
   "execution_count": 68,
   "id": "188adfbf",
   "metadata": {},
   "outputs": [
    {
     "data": {
      "text/plain": [
       "'hello'"
      ]
     },
     "execution_count": 68,
     "metadata": {},
     "output_type": "execute_result"
    }
   ],
   "source": [
    "pickle.load(f)"
   ]
  },
  {
   "cell_type": "code",
   "execution_count": 69,
   "id": "863f493d",
   "metadata": {},
   "outputs": [
    {
     "data": {
      "text/plain": [
       "{'apple', 'banana', 'pear'}"
      ]
     },
     "execution_count": 69,
     "metadata": {},
     "output_type": "execute_result"
    }
   ],
   "source": [
    "pickle.load(f)"
   ]
  },
  {
   "cell_type": "code",
   "execution_count": 77,
   "id": "3c9fe9dd",
   "metadata": {},
   "outputs": [
    {
     "name": "stdout",
     "output_type": "stream",
     "text": [
      "Player1 ==> ['Ansu Fati', 10, 'LWF']\n",
      "Player2 ==> ['Pedri', 16, 'CAM']\n"
     ]
    }
   ],
   "source": [
    "import pickle\n",
    "\n",
    "def storeData():\n",
    "    # initializing the data\n",
    "    # pickle_dataset_1 = {\"key\": \"john\", \"name\": \"fred\", \"age\": 21, \"pay\": 400000}\n",
    "    # pickle_dataset_2 = {\"key\": \"jay\", \"name\": \"jay\", \"age\": 50, \"pay\": 500000}\n",
    "    \n",
    "    pickle_dataset_1 =  [\"Ansu Fati\", 10, \"LWF\"]\n",
    "    pickle_dataset_2 = [\"Pedri\", 16, \"CAM\"]\n",
    "    pickle_dataset_3 = [\"Ronald Aroujo\", 4, \"CB\"]\n",
    "    \n",
    "    \n",
    "    db = {}\n",
    "    db['Player1'] = pickle_dataset_1\n",
    "    db['Player2'] = pickle_dataset_2\n",
    "    dbfile = open('examplepickle', 'wb')\n",
    "    pickle.dump(db, dbfile)\n",
    "    dbfile.close()\n",
    "    \n",
    "def loadData():\n",
    "    # for reading \n",
    "    \n",
    "    dbfile = open(\"examplepickle\", \"rb\")\n",
    "    db = pickle.load(dbfile)\n",
    "    \n",
    "    for key in db:\n",
    "        print(key, \"==>\", db[key])\n",
    "    dbfile.close()\n",
    "    \n",
    "if __name__ == '__main__':\n",
    "    storeData()\n",
    "    loadData()\n",
    "    "
   ]
  },
  {
   "cell_type": "code",
   "execution_count": 78,
   "id": "1d0f28d4",
   "metadata": {},
   "outputs": [
    {
     "name": "stdout",
     "output_type": "stream",
     "text": [
      "{\"Name\": \"infy\", \"share\": 100, \"price\": 1000}\n"
     ]
    }
   ],
   "source": [
    "# json data\n",
    "import json\n",
    "data = {\n",
    "    \"Name\": \"infy\",\n",
    "    \"share\": 100,\n",
    "    \"price\": 1000\n",
    "}\n",
    "\n",
    "json_str = json.dumps(data)\n",
    "print(json_str)"
   ]
  },
  {
   "cell_type": "code",
   "execution_count": 79,
   "id": "5f2baeb7",
   "metadata": {},
   "outputs": [
    {
     "name": "stdout",
     "output_type": "stream",
     "text": [
      "{'Name': 'infy', 'share': 100, 'price': 1000}\n"
     ]
    }
   ],
   "source": [
    "data1 = json.loads(json_str)\n",
    "print(data1)"
   ]
  },
  {
   "cell_type": "code",
   "execution_count": 80,
   "id": "973b84c1",
   "metadata": {},
   "outputs": [],
   "source": [
    "with open(\"data.json\", \"w\") as f:\n",
    "    json.dump(data, f)"
   ]
  },
  {
   "cell_type": "code",
   "execution_count": 81,
   "id": "189e05ec",
   "metadata": {},
   "outputs": [
    {
     "name": "stdout",
     "output_type": "stream",
     "text": [
      "{'Name': 'infy', 'share': 100, 'price': 1000}\n"
     ]
    }
   ],
   "source": [
    "with open(\"data.json\", \"r\") as f:\n",
    "    g = json.load(f)\n",
    "    print(data)"
   ]
  },
  {
   "cell_type": "code",
   "execution_count": 82,
   "id": "3d332cb7",
   "metadata": {},
   "outputs": [
    {
     "data": {
      "text/plain": [
       "'false'"
      ]
     },
     "execution_count": 82,
     "metadata": {},
     "output_type": "execute_result"
    }
   ],
   "source": [
    "json.dumps(False)"
   ]
  },
  {
   "cell_type": "code",
   "execution_count": 83,
   "id": "2935c473",
   "metadata": {},
   "outputs": [],
   "source": [
    "d = {'a': True, \"b\": \"Hello\", c: None}"
   ]
  },
  {
   "cell_type": "code",
   "execution_count": 84,
   "id": "2dd84749",
   "metadata": {},
   "outputs": [
    {
     "data": {
      "text/plain": [
       "'{\"a\": true, \"b\": \"Hello\", \"0\": null}'"
      ]
     },
     "execution_count": 84,
     "metadata": {},
     "output_type": "execute_result"
    }
   ],
   "source": [
    "json.dumps(d)"
   ]
  },
  {
   "cell_type": "code",
   "execution_count": null,
   "id": "ad717c81",
   "metadata": {},
   "outputs": [],
   "source": []
  }
 ],
 "metadata": {
  "kernelspec": {
   "display_name": "Python 3 (ipykernel)",
   "language": "python",
   "name": "python3"
  },
  "language_info": {
   "codemirror_mode": {
    "name": "ipython",
    "version": 3
   },
   "file_extension": ".py",
   "mimetype": "text/x-python",
   "name": "python",
   "nbconvert_exporter": "python",
   "pygments_lexer": "ipython3",
   "version": "3.9.7"
  }
 },
 "nbformat": 4,
 "nbformat_minor": 5
}
